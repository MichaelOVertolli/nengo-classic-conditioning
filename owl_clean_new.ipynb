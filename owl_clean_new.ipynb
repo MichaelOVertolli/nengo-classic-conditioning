{
 "cells": [
  {
   "cell_type": "code",
   "execution_count": 1,
   "metadata": {
    "collapsed": false
   },
   "outputs": [],
   "source": [
    "from matplotlib import pylab\n",
    "from scipy import stats\n",
    "import nengo\n",
    "import numpy as np\n",
    "\n",
    "\n",
    "%matplotlib inline"
   ]
  },
  {
   "cell_type": "code",
   "execution_count": 2,
   "metadata": {
    "collapsed": false
   },
   "outputs": [],
   "source": [
    "STEP = 0.001#s\n",
    "EQ_MARGIN = 0.0001\n",
    "SIM_TIME = 1000#s\n",
    "SWITCH_TIME = 0.500#s\n",
    "SWITCH_TIME2 = 0.050#s\n",
    "CHECKS = 45\n",
    "DIVIDER = 1\n",
    "SIM_TIME2 = SWITCH_TIME2#s\n",
    "DIST = 10\n",
    "D_STEP = 10\n",
    "MOD = 23\n",
    "B_STEP = 180/CHECKS\n",
    "\n",
    "def tocirc(v, sin=True):\n",
    "    if sin:\n",
    "        comp = np.sin\n",
    "    else:\n",
    "        comp = np.cos\n",
    "    return comp(v*np.pi/2)\n",
    "\n",
    "def fn(vals, vals2, vals3):\n",
    "    s = SWITCH_TIME\n",
    "    vs = vals\n",
    "#    cur = STEP\n",
    "    i = 0\n",
    "    #prep yield\n",
    "    t = yield\n",
    "    init = t\n",
    "    cur = init\n",
    "    #print t\n",
    "    while True:\n",
    "    #initial training\n",
    "        if -EQ_MARGIN <= t-SIM_TIME-init <= EQ_MARGIN:\n",
    "            break\n",
    "        if -EQ_MARGIN <= t-cur-s <= EQ_MARGIN:\n",
    "            #print '*********************************************'\n",
    "            cur = t\n",
    "            i += 1\n",
    "        t = yield [vs[i], 0]\n",
    "        #print cur, t, t-cur, s, t-cur-s, -EQ_MARGIN <= t-cur-s <= EQ_MARGIN\n",
    "    s = SWITCH_TIME2\n",
    "    vs = vals2\n",
    "    cur = t\n",
    "    i = 0\n",
    "    while True:\n",
    "    #assessment 1\n",
    "        if i >= len(vals2):\n",
    "            print 'too far', t\n",
    "            break\n",
    "        t = yield [vs[i], 0]\n",
    "        if -EQ_MARGIN <= t-cur-s <= EQ_MARGIN:\n",
    "            cur = t\n",
    "            i += 1\n",
    "    s = SWITCH_TIME\n",
    "    vs = vals3\n",
    "    cur = t\n",
    "    resim_time = SIM_TIME/DIVIDER+t\n",
    "    i = 0\n",
    "    while True:\n",
    "    #retraining\n",
    "        if -EQ_MARGIN <= t-resim_time <= EQ_MARGIN:\n",
    "            break\n",
    "        if -EQ_MARGIN <= t-cur-s <= EQ_MARGIN:\n",
    "            cur = t\n",
    "            i += 1\n",
    "        t = yield [vs[i], 1]\n",
    "    s = SWITCH_TIME2\n",
    "    vs = vals2\n",
    "    cur = t\n",
    "    i = 0\n",
    "    while True:\n",
    "    #assessment 2\n",
    "        if i >= len(vals2):\n",
    "            print 'too far', t\n",
    "            break\n",
    "        t = yield [vs[i], 0]\n",
    "        if -EQ_MARGIN <= t-cur-s <= EQ_MARGIN:\n",
    "            cur = t\n",
    "            i += 1\n",
    "    while True:\n",
    "        t = yield [0, 0]\n",
    "        \n",
    "def fn2(vals, vals2, vals3, mod):\n",
    "    s = SWITCH_TIME\n",
    "    vs = vals\n",
    "#    cur = STEP\n",
    "    i = 0\n",
    "    #prep yield\n",
    "    t = yield\n",
    "    init = t\n",
    "    cur = init\n",
    "    #print t\n",
    "    while True:\n",
    "    #initial training\n",
    "        if -EQ_MARGIN <= t-SIM_TIME-init <= EQ_MARGIN:\n",
    "            break\n",
    "        if -EQ_MARGIN <= t-cur-s <= EQ_MARGIN:\n",
    "            cur = t\n",
    "            i += 1\n",
    "        t = yield [tocirc(vs[i]), tocirc(vs[i], False)]\n",
    "    s = SWITCH_TIME2\n",
    "    vs = vals2\n",
    "    cur = t\n",
    "    i = 0\n",
    "    while True:\n",
    "    #assessment 1\n",
    "        if i >= len(vals2):\n",
    "            print 'too far', t\n",
    "            break\n",
    "        t = yield [0, 0]\n",
    "        if -EQ_MARGIN <= t-cur-s <= EQ_MARGIN:\n",
    "            cur = t\n",
    "            i += 1\n",
    "    s = SWITCH_TIME\n",
    "    vs = vals3\n",
    "    cur = t\n",
    "    resim_time = SIM_TIME/DIVIDER+t\n",
    "    i = 0\n",
    "    while True:\n",
    "    #retraining\n",
    "        if -EQ_MARGIN <= t-resim_time <= EQ_MARGIN:\n",
    "            break\n",
    "        if -EQ_MARGIN <= t-cur-s <= EQ_MARGIN:\n",
    "            cur = t\n",
    "            i += 1\n",
    "        t = yield [tocirc(vs[i]-mod), tocirc(vs[i]-mod, False)]\n",
    "    s = SWITCH_TIME2\n",
    "    vs = vals2\n",
    "    cur = t\n",
    "    i = 0\n",
    "    while True:\n",
    "    #assessment 2\n",
    "        if i >= len(vals2):\n",
    "            print 'too far', t\n",
    "            break\n",
    "        t = yield [0, 0]\n",
    "        if -EQ_MARGIN <= t-cur-s <= EQ_MARGIN:\n",
    "            cur = t\n",
    "            i += 1\n",
    "    while True:\n",
    "        t = yield [0, 0]\n",
    "        \n",
    "def fn3(vals, vals2, vals3):\n",
    "    s = SWITCH_TIME\n",
    "    vs = vals\n",
    "#    cur = STEP\n",
    "    i = 0\n",
    "    #prep yield\n",
    "    t = yield\n",
    "    init = t\n",
    "    cur = init\n",
    "    #print t\n",
    "    while True:\n",
    "    #initial training\n",
    "        if -EQ_MARGIN <= t-SIM_TIME-init <= EQ_MARGIN:\n",
    "            break\n",
    "        if -EQ_MARGIN <= t-cur-s <= EQ_MARGIN:\n",
    "            cur = t\n",
    "            i += 1\n",
    "        t = yield 0\n",
    "    s = SWITCH_TIME2\n",
    "    vs = vals2\n",
    "    cur = t\n",
    "    i = 0\n",
    "    while True:\n",
    "    #assessment 1\n",
    "        if i >= len(vals2):\n",
    "            print 'too far', t\n",
    "            break\n",
    "        t = yield 1\n",
    "        if -EQ_MARGIN <= t-cur-s <= EQ_MARGIN:\n",
    "            cur = t\n",
    "            i += 1\n",
    "    s = SWITCH_TIME\n",
    "    vs = vals3\n",
    "    cur = t\n",
    "    resim_time = SIM_TIME/DIVIDER+t\n",
    "    i = 0\n",
    "    while True:\n",
    "    #retraining\n",
    "        if -EQ_MARGIN <= t-resim_time <= EQ_MARGIN:\n",
    "            break\n",
    "        if -EQ_MARGIN <= t-cur-s <= EQ_MARGIN:\n",
    "            cur = t\n",
    "            i += 1\n",
    "        t = yield 0\n",
    "    s = SWITCH_TIME2\n",
    "    vs = vals2\n",
    "    cur = t\n",
    "    i = 0\n",
    "    while True:\n",
    "    #assessment 2\n",
    "        if i >= len(vals2):\n",
    "            print 'too far', t\n",
    "            break\n",
    "        t = yield 1\n",
    "        if -EQ_MARGIN <= t-cur-s <= EQ_MARGIN:\n",
    "            cur = t\n",
    "            i += 1\n",
    "    while True:\n",
    "        t = yield 1"
   ]
  },
  {
   "cell_type": "code",
   "execution_count": 3,
   "metadata": {
    "collapsed": false
   },
   "outputs": [],
   "source": [
    "model = nengo.Network(seed=3)\n",
    "dist = nengo.dists.Uniform(-1.0, 1.0)\n",
    "vals = dist.sample((SIM_TIME/SWITCH_TIME)+1)\n",
    "vals3 = dist.sample((SIM_TIME/SWITCH_TIME/DIVIDER)+1)\n",
    "vals2 = np.linspace(-1, 1, CHECKS)\n",
    "GAP = vals2[1]-vals2[0]\n",
    "mod = GAP*MOD/B_STEP\n",
    "func = fn(vals, vals2, vals3)\n",
    "func.next()\n",
    "func = func.send\n",
    "func2 = fn2(vals, vals2, vals3, mod)\n",
    "func2.next()\n",
    "func2 = func2.send\n",
    "func3 = fn3(vals, vals2, vals3)\n",
    "func3.next()\n",
    "func3 = func3.send"
   ]
  },
  {
   "cell_type": "code",
   "execution_count": 4,
   "metadata": {
    "collapsed": false
   },
   "outputs": [],
   "source": [
    "#xx = [np.sin(x*np.pi/2) for x in np.linspace(-1, 1, 45)]\n",
    "#yy = [np.cos(x*np.pi/2) for x in np.linspace(-1, 1, 45)]\n",
    "#print xx\n",
    "#pylab.plot(xx, yy)\n",
    "#for i in range(len(xx)-1):\n",
    "#    pylab.plot([xx[i], 0], [yy[i], 0])"
   ]
  },
  {
   "cell_type": "code",
   "execution_count": 5,
   "metadata": {
    "collapsed": false
   },
   "outputs": [],
   "source": [
    "#time = int(2*(SIM_TIME/STEP)+2*(CHECKS*SWITCH_TIME2/STEP))\n",
    "#print time\n",
    "#a = [func(0.001*x) for x in range(1, time+1)]\n",
    "#d = [func2(0.001*x) for x in range(1, time+1)]"
   ]
  },
  {
   "cell_type": "code",
   "execution_count": 6,
   "metadata": {
    "collapsed": false
   },
   "outputs": [],
   "source": [
    "#print mod\n",
    "#b = np.array(a)\n",
    "#c = b[:, 0]\n",
    "#e = np.array(d)\n",
    "#print list(c).index(-1.0)\n",
    "#x, y = 104500-50, 104501\n",
    "#print c[x:y]\n",
    "#print c.shape\n",
    "#print [jj[0] for jj in e[x:y]]"
   ]
  },
  {
   "cell_type": "code",
   "execution_count": 7,
   "metadata": {
    "collapsed": false
   },
   "outputs": [],
   "source": [
    "#d = {}\n",
    "#z=52200\n",
    "#for a in set(c[:]):\n",
    "#    d[a] = 0\n",
    "#for a in c[:]:\n",
    "#    d[a] += 1\n",
    "#for k in d:\n",
    "#    if d[k] != 500 and d[k] != 1500 and d[k] != 50 and d[k] != 150:\n",
    "#        print k, d[k]\n",
    "#print c[0], c[499], c[500], c[999], c[1000], c[1499]\n",
    "#print c[49998], c[49999]\n",
    "#print c[3501], c[4001], c[1500], c[2000], c[2001]\n",
    "#print c[52200-1:52250]\n",
    "#print [i for i, x in enumerate(c[:z]) if -0.01 < x+0.421665933532 < 0.01]"
   ]
  },
  {
   "cell_type": "code",
   "execution_count": 8,
   "metadata": {
    "collapsed": false
   },
   "outputs": [],
   "source": [
    "#print np.sin((0.5-(GAP*MOD/B_STEP))*np.pi/2)\n",
    "#print convertandmod(np.sin(0.5*np.pi/2))\n",
    "\n",
    "#n=35\n",
    "#pylab.plot(xx, yy)\n",
    "#pylab.plot([xx[n], 0], [yy[n], 0])\n",
    "#pylab.plot([convertandmod(xx[n])[0], 0], [convertandmod(xx[n])[1], 0])"
   ]
  },
  {
   "cell_type": "code",
   "execution_count": 9,
   "metadata": {
    "collapsed": false
   },
   "outputs": [],
   "source": [
    "with model:\n",
    "    stim = nengo.Node(func)\n",
    "    stim2 = nengo.Node(func2)\n",
    "    stop_learn = nengo.Node(func3)\n",
    "    \n",
    "    sensory = nengo.Ensemble(n_neurons=400, dimensions=3,\n",
    "                            intercepts=nengo.dists.Uniform(0.81,0.91))\n",
    "    \n",
    "    \n",
    "    spatial = nengo.Ensemble(n_neurons=400, dimensions=2,\n",
    "                            intercepts=nengo.dists.Uniform(0.81,0.91))\n",
    "    \n",
    "    nengo.Connection(stim, sensory[:],\n",
    "                     function=lambda x: (tocirc(x[0]), \n",
    "                                         tocirc(x[0], False), \n",
    "                                         x[1]))\n",
    "    \n",
    "    #nengo.Connection(sensory[:2], sensory[2:], synapse=0.2)\n",
    "    \n",
    "    c = nengo.Connection(sensory, spatial, function=lambda x: [0,0],\n",
    "                         learning_rule_type=nengo.PES(learning_rate=3e-4))\n",
    "        \n",
    "    error = nengo.Ensemble(n_neurons=400, dimensions=2)\n",
    "    \n",
    "    nengo.Connection(stop_learn, error.neurons, transform=-10*np.ones((400, 1)))\n",
    "    nengo.Connection(stim2, error, transform=-1)\n",
    "    nengo.Connection(error, c.learning_rule)\n",
    "                     #0.19 is 17deg shift (need more negative to mitigate it)\n",
    "                     #function=lambda x: x[:2] if x[2] > 0.7 else convertandmod(x[0]) if x[2] > 0.3 else [0, 0])\n",
    "    #nengo.Connection(spatial, c.learning_rule, synapse=0.1)\n",
    "    \n",
    "    nengo.Connection(spatial, error)\n",
    "    #correct = nengo.Node([0,0])\n",
    "    #nengo.Connection(correct, error, transform=-1)\n",
    "    \n",
    "    spatial_probe = nengo.Probe(spatial.neurons)\n",
    "    \n"
   ]
  },
  {
   "cell_type": "code",
   "execution_count": 10,
   "metadata": {
    "collapsed": false
   },
   "outputs": [],
   "source": [
    "def sim_gen(time, cnt):\n",
    "    cur = 0\n",
    "    yield np.mean(sim.data[spatial_probe][-int(SWITCH_TIME2/STEP):], axis=0) #prep\n",
    "    while cur <= cnt:\n",
    "        sim.run(time, progress_bar=False)\n",
    "        yield np.mean(sim.data[spatial_probe][-int(SWITCH_TIME2/STEP):], axis=0)\n",
    "        #print sim.data[spatial_probe].shape\n",
    "        cur += 1\n",
    "        \n",
    "def calc_norm(rates, rate_peaks=None):\n",
    "    #assume that cells with similar peak centers would fall under the same\n",
    "    #multicellular recording therefore peaks are done relative to all values with similar peaks\n",
    "    nrm_rates = []\n",
    "    if rate_peaks is None:\n",
    "        rate_peaks = np.max(rates, axis=1)\n",
    "        rate_peaks = np.array([p if p > 0 else 1 for p in rate_peaks])\n",
    "    max_i = np.argmax(rates, axis=0)\n",
    "    for j, i in enumerate(max_i):\n",
    "        nrm_rates.append(rates[:, j]/rate_peaks[i])\n",
    "    nrm_rates = np.array(nrm_rates).transpose()\n",
    "    return nrm_rates, rate_peaks\n",
    "\n",
    "#def align_cut(nrm, dist, num_checks, maxes=None):\n",
    "    #below uses the protocol from the paper where the center value of the values with >= 50% of\n",
    "    #the max value is used as the max\n",
    "    #cut assumes that it is not multimodal\n",
    "#    if maxes is None:\n",
    "#        cut = [[(i, neuron_val) for i, neuron_val in enumerate(nrm[:, col]) \n",
    "#                if neuron_val >= 0.5] for col in range(nrm.shape[1])]\n",
    "#        maxes = [(i, neuron_vals[len(neuron_vals)/2][0]) \n",
    "#                 for i, neuron_vals in enumerate(cut) \n",
    "#                 if len(neuron_vals) > 0]\n",
    "#    max_cuts = [nrm[mx-dist:mx+dist+1, i] \n",
    "#                for i, mx in maxes \n",
    "#                if mx >= dist and mx <= num_checks-(dist+1)]\n",
    "#    return np.array(max_cuts), maxes\n",
    "\n",
    "def align_cut2(nrm, dist, num_checks, maxes=None):\n",
    "    if maxes is None:\n",
    "        #temp = {k: nrm[:, k] for k in range(nrm.shape[1])}\n",
    "        #print temp[1]\n",
    "        cut = {col: [(i, neuron_val) for i, neuron_val in enumerate(nrm[:, col]) \n",
    "                   if neuron_val > 0.5] \n",
    "               for col in range(nrm.shape[1])}\n",
    "        #print cut[1]\n",
    "        maxes = {k: neuron_vals[len(neuron_vals)/2][0] for k, neuron_vals in cut.items()\n",
    "                if len(neuron_vals) > 0}\n",
    "        for k in cut:\n",
    "            try:\n",
    "                maxes[k]\n",
    "            except KeyError:\n",
    "                maxes[k] = 0\n",
    "    max_cuts = {i: nrm[mx-dist:mx+dist+1, i] \n",
    "                for i, mx in maxes.items() \n",
    "                if mx >= dist and mx <= num_checks-(dist+1)}\n",
    "    return max_cuts, maxes\n",
    "\n",
    "def prep_graph(time, cnt, dist):\n",
    "    sim_g = sim_gen(time, cnt)\n",
    "    sim_g.next()\n",
    "    return align_cut(calc_norm(np.array([mean for mean in sim_g])), dist)\n",
    "\n",
    "def graph_neurons(vals, step):\n",
    "    pylab.xlabel('ITD (us)')\n",
    "    pylab.ylabel('Normed Response')\n",
    "    for v in range(vals.shape[0]):\n",
    "        pylab.plot(range(-DIST*step, DIST*step+1, step), vals[v, :])\n",
    "\n",
    "def graph_mean(mean, step):\n",
    "    pylab.xlabel('ITD (us)')\n",
    "    pylab.ylabel('Normed Response')\n",
    "    pylab.plot(range(-DIST*step, DIST*step+1, step), mean)\n",
    "    \n",
    "def filtered_mean(vals):\n",
    "    return np.mean([x for x in vals if sum(x) > 0], axis=0)"
   ]
  },
  {
   "cell_type": "code",
   "execution_count": 11,
   "metadata": {
    "collapsed": false
   },
   "outputs": [],
   "source": [
    "#a, m = align_cut2(n2, DIST, len(vals2))\n",
    "#print m.keys() == range(400)"
   ]
  },
  {
   "cell_type": "code",
   "execution_count": 12,
   "metadata": {
    "collapsed": false
   },
   "outputs": [],
   "source": [
    "sim = nengo.Simulator(model)"
   ]
  },
  {
   "cell_type": "code",
   "execution_count": 13,
   "metadata": {
    "collapsed": false
   },
   "outputs": [
    {
     "name": "stdout",
     "output_type": "stream",
     "text": [
      "Simulation finished in 0:06:30.                                                 \n"
     ]
    }
   ],
   "source": [
    "sim.run(SIM_TIME)"
   ]
  },
  {
   "cell_type": "code",
   "execution_count": 14,
   "metadata": {
    "collapsed": false,
    "scrolled": true
   },
   "outputs": [
    {
     "name": "stdout",
     "output_type": "stream",
     "text": [
      "too far 1002.25\n",
      "too far 1002.25\n",
      "too far 1002.25\n"
     ]
    }
   ],
   "source": [
    "sim_g = sim_gen(SIM_TIME2, len(vals2)-1)\n",
    "a=sim_g.next()\n",
    "#print a.shape\n",
    "mean = np.array([mean for mean in sim_g])\n",
    "#print mean.shape\n",
    "#Y = len(j)\n",
    "#print Y"
   ]
  },
  {
   "cell_type": "code",
   "execution_count": 15,
   "metadata": {
    "collapsed": false
   },
   "outputs": [],
   "source": [
    "n, rate_peaks = calc_norm(mean)"
   ]
  },
  {
   "cell_type": "code",
   "execution_count": 16,
   "metadata": {
    "collapsed": false
   },
   "outputs": [
    {
     "name": "stdout",
     "output_type": "stream",
     "text": [
      "(117, 21)\n",
      "[21, 21, 21, 21, 21, 21, 21, 21, 21, 21, 21, 21, 21, 21, 21, 21, 21, 21, 21, 21, 21, 21, 21, 21, 21, 21, 21, 21, 21, 21, 21, 21, 21, 21, 21, 21, 21, 21, 21, 21, 21, 21, 21, 21, 21, 21, 21, 21, 21, 21, 21, 21, 21, 21, 21, 21, 21, 21, 21, 21, 21, 21, 21, 21, 21, 21, 21, 21, 21, 21, 21, 21, 21, 21, 21, 21, 21, 21, 21, 21, 21, 21, 21, 21, 21, 21, 21, 21, 21, 21, 21, 21, 21, 21, 21, 21, 21, 21, 21, 21, 21, 21, 21, 21, 21, 21, 21, 21, 21, 21, 21, 21, 21, 21, 21, 21, 21]\n",
      "(21,)\n"
     ]
    }
   ],
   "source": [
    "out_, maxes = align_cut2(n, DIST, len(vals2))\n",
    "out = np.array(out_.values())\n",
    "print out.shape\n",
    "print [len(x) for x in out]\n",
    "mean_out = np.mean(out, axis=0)\n",
    "print mean_out.shape"
   ]
  },
  {
   "cell_type": "code",
   "execution_count": null,
   "metadata": {
    "collapsed": true
   },
   "outputs": [],
   "source": []
  },
  {
   "cell_type": "code",
   "execution_count": 17,
   "metadata": {
    "collapsed": false
   },
   "outputs": [],
   "source": [
    "def runstats(mvals, vals):\n",
    "    m = np.max(mvals)\n",
    "    print 'max', m\n",
    "    print list(mvals).index(m)\n",
    "    print np.max(vals, axis=1)"
   ]
  },
  {
   "cell_type": "code",
   "execution_count": 18,
   "metadata": {
    "collapsed": false
   },
   "outputs": [],
   "source": [
    "#runstats(mean_out, out)\n",
    "#runstats(mean_out2, out2)\n",
    "#runstats(mean_out3, out3)"
   ]
  },
  {
   "cell_type": "code",
   "execution_count": 19,
   "metadata": {
    "collapsed": false
   },
   "outputs": [
    {
     "data": {
      "image/png": "[encoded data removed]",
      "text/plain": [
       "<matplotlib.figure.Figure at 0x7f2693719490>"
      ]
     },
     "metadata": {},
     "output_type": "display_data"
    }
   ],
   "source": [
    "graph_neurons(out[:10], D_STEP)"
   ]
  },
  {
   "cell_type": "code",
   "execution_count": null,
   "metadata": {
    "collapsed": true
   },
   "outputs": [],
   "source": []
  },
  {
   "cell_type": "code",
   "execution_count": 20,
   "metadata": {
    "collapsed": false,
    "scrolled": true
   },
   "outputs": [
    {
     "data": {
      "image/png": "[encoded data removed]",
      "text/plain": [
       "<matplotlib.figure.Figure at 0x7f268e990690>"
      ]
     },
     "metadata": {},
     "output_type": "display_data"
    }
   ],
   "source": [
    "graph_mean(mean_out, D_STEP)"
   ]
  },
  {
   "cell_type": "code",
   "execution_count": 21,
   "metadata": {
    "collapsed": false,
    "scrolled": true
   },
   "outputs": [
    {
     "name": "stdout",
     "output_type": "stream",
     "text": [
      "Simulation finished in 0:06:49.                                                 \n"
     ]
    }
   ],
   "source": [
    "sim.run(SIM_TIME/DIVIDER)"
   ]
  },
  {
   "cell_type": "code",
   "execution_count": 22,
   "metadata": {
    "collapsed": false
   },
   "outputs": [
    {
     "name": "stdout",
     "output_type": "stream",
     "text": [
      "too far 2004.5\n",
      "too far 2004.5\n",
      "too far 2004.5\n",
      "(45, 400)\n"
     ]
    }
   ],
   "source": [
    "sim_g = sim_gen(SIM_TIME2, len(vals2)-1)\n",
    "a2=sim_g.next()\n",
    "#print a.shape\n",
    "mean2 = np.array([mean for mean in sim_g])\n",
    "print mean2.shape"
   ]
  },
  {
   "cell_type": "code",
   "execution_count": 23,
   "metadata": {
    "collapsed": true
   },
   "outputs": [],
   "source": [
    "n2, rate_peaks2 = calc_norm(mean2)"
   ]
  },
  {
   "cell_type": "code",
   "execution_count": 24,
   "metadata": {
    "collapsed": false
   },
   "outputs": [
    {
     "name": "stdout",
     "output_type": "stream",
     "text": [
      "(0,)\n"
     ]
    },
    {
     "ename": "IndexError",
     "evalue": "index 0 is out of bounds for axis 0 with size 0",
     "output_type": "error",
     "traceback": [
      "\u001b[1;31m---------------------------------------------------------------------------\u001b[0m",
      "\u001b[1;31mIndexError\u001b[0m                                Traceback (most recent call last)",
      "\u001b[1;32m<ipython-input-24-f7f3bc3a4d28>\u001b[0m in \u001b[0;36m<module>\u001b[1;34m()\u001b[0m\n\u001b[0;32m      4\u001b[0m \u001b[0mout2\u001b[0m \u001b[1;33m=\u001b[0m \u001b[0mnp\u001b[0m\u001b[1;33m.\u001b[0m\u001b[0marray\u001b[0m\u001b[1;33m(\u001b[0m\u001b[0mout_2\u001b[0m\u001b[1;33m.\u001b[0m\u001b[0mvalues\u001b[0m\u001b[1;33m(\u001b[0m\u001b[1;33m)\u001b[0m\u001b[1;33m)\u001b[0m\u001b[1;33m\u001b[0m\u001b[0m\n\u001b[0;32m      5\u001b[0m \u001b[1;32mprint\u001b[0m \u001b[0mout2\u001b[0m\u001b[1;33m.\u001b[0m\u001b[0mshape\u001b[0m\u001b[1;33m\u001b[0m\u001b[0m\n\u001b[1;32m----> 6\u001b[1;33m \u001b[1;32mprint\u001b[0m \u001b[0mout2\u001b[0m\u001b[1;33m[\u001b[0m\u001b[1;36m0\u001b[0m\u001b[1;33m]\u001b[0m\u001b[1;33m\u001b[0m\u001b[0m\n\u001b[0m\u001b[0;32m      7\u001b[0m \u001b[1;32mprint\u001b[0m \u001b[1;33m[\u001b[0m\u001b[0mlen\u001b[0m\u001b[1;33m(\u001b[0m\u001b[0mx\u001b[0m\u001b[1;33m)\u001b[0m \u001b[1;32mfor\u001b[0m \u001b[0mx\u001b[0m \u001b[1;32min\u001b[0m \u001b[0mout2\u001b[0m\u001b[1;33m]\u001b[0m\u001b[1;33m\u001b[0m\u001b[0m\n\u001b[0;32m      8\u001b[0m \u001b[0mmean_out2\u001b[0m \u001b[1;33m=\u001b[0m \u001b[0mfiltered_mean\u001b[0m\u001b[1;33m(\u001b[0m\u001b[0mout2\u001b[0m\u001b[1;33m)\u001b[0m\u001b[1;33m\u001b[0m\u001b[0m\n",
      "\u001b[1;31mIndexError\u001b[0m: index 0 is out of bounds for axis 0 with size 0"
     ]
    }
   ],
   "source": [
    "#Centered the graphs relative to themselves\n",
    "out_2, maxes2 = align_cut2(n2, DIST, len(vals2))\n",
    "#print out_2\n",
    "out2 = np.array(out_2.values())\n",
    "print out2.shape\n",
    "print out2[0]\n",
    "print [len(x) for x in out2]\n",
    "mean_out2 = filtered_mean(out2)\n",
    "print mean_out2.shape"
   ]
  },
  {
   "cell_type": "code",
   "execution_count": null,
   "metadata": {
    "collapsed": true
   },
   "outputs": [],
   "source": []
  },
  {
   "cell_type": "code",
   "execution_count": null,
   "metadata": {
    "collapsed": false
   },
   "outputs": [],
   "source": [
    "graph_neurons(out2[:10], D_STEP)"
   ]
  },
  {
   "cell_type": "code",
   "execution_count": null,
   "metadata": {
    "collapsed": true
   },
   "outputs": [],
   "source": []
  },
  {
   "cell_type": "code",
   "execution_count": null,
   "metadata": {
    "collapsed": false
   },
   "outputs": [],
   "source": [
    "graph_mean(mean_out2, D_STEP)"
   ]
  },
  {
   "cell_type": "code",
   "execution_count": null,
   "metadata": {
    "collapsed": false
   },
   "outputs": [],
   "source": [
    "#Centered the graphs relative to the original distribution\n",
    "out_3, maxes3 = align_cut2(n2, DIST, len(vals2), maxes)\n",
    "out3 = np.array(out_3.values())\n",
    "print out3.shape\n",
    "print [len(x) for x in out3]\n",
    "mean_out3 = filtered_mean(out3)\n",
    "#print np.mean([x for x in out3 if sum(x) > 0], axis=1)\n",
    "#print np.sum([x for x in out3 if sum(x) > 0], axis=1)\n",
    "#print mean_out3.shape"
   ]
  },
  {
   "cell_type": "code",
   "execution_count": null,
   "metadata": {
    "collapsed": false
   },
   "outputs": [],
   "source": [
    "graph_neurons(out3[:10], D_STEP)"
   ]
  },
  {
   "cell_type": "code",
   "execution_count": null,
   "metadata": {
    "collapsed": false
   },
   "outputs": [],
   "source": [
    "graph_mean(mean_out3, D_STEP)"
   ]
  },
  {
   "cell_type": "code",
   "execution_count": null,
   "metadata": {
    "collapsed": false
   },
   "outputs": [],
   "source": [
    "print out_.keys()[0]\n",
    "print maxes[1]\n",
    "print maxes2[1]\n",
    "print n2[15:18, 1]\n",
    "print n2[16-DIST:16+DIST+1, 1]\n",
    "print out_2[1]\n",
    "print out_3[1]\n",
    "\n",
    "ttt = []\n",
    "for k in out_3:\n",
    "    t = maxes[k]\n",
    "    ttt.append(out_3[k] == n2[t-DIST:t+DIST+1, k])\n",
    "print ttt"
   ]
  },
  {
   "cell_type": "code",
   "execution_count": null,
   "metadata": {
    "collapsed": true
   },
   "outputs": [],
   "source": []
  }
 ],
 "metadata": {
  "kernelspec": {
   "display_name": "Python 2",
   "language": "python",
   "name": "python2"
  },
  "language_info": {
   "codemirror_mode": {
    "name": "ipython",
    "version": 2
   },
   "file_extension": ".py",
   "mimetype": "text/x-python",
   "name": "python",
   "nbconvert_exporter": "python",
   "pygments_lexer": "ipython2",
   "version": "2.7.10"
  }
 },
 "nbformat": 4,
 "nbformat_minor": 0
}
