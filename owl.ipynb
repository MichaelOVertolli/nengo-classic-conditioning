{
 "cells": [
  {
   "cell_type": "code",
   "execution_count": null,
   "metadata": {
    "collapsed": true
   },
   "outputs": [],
   "source": [
    "import nengo\n",
    "\n",
    "model = nengo.Network()\n",
    "with model:\n",
    "    stim = nengo.Node([0])\n",
    "    \n",
    "    sensory = nengo.Ensemble(n_neurons=100, dimensions=2)\n",
    "    \n",
    "    spatial = nengo.Ensemble(n_neurons=100, dimensions=2)\n",
    "    \n",
    "    c = nengo.Connection(sensory, spatial, learning_rule_type=nengo.PES())\n",
    "        \n",
    "    error = nengo.Ensemble(n_neurons=100, dimensions=2)\n",
    "    nengo.Connection(error, c.learning_rule)\n",
    "    \n",
    "    nengo.Connection(spatial, error)\n",
    "    correct = nengo.Node([0,0])\n",
    "    nengo.Connection(correct, error, transform=-1)"
   ]
  },
  {
   "cell_type": "code",
   "execution_count": 11,
   "metadata": {
    "collapsed": false
   },
   "outputs": [],
   "source": [
    "import nengo\n",
    "import numpy as np\n",
    "\n",
    "model = nengo.Network()\n",
    "with model:\n",
    "    stim = nengo.Node([0])\n",
    "    \n",
    "    sensory = nengo.Ensemble(n_neurons=100, dimensions=2, intercepts=nengo.dists.Uniform(0.7,0.95))\n",
    "    \n",
    "    spatial = nengo.Ensemble(n_neurons=100, dimensions=2, intercepts=nengo.dists.Uniform(0.7,0.95))\n",
    "    \n",
    "    nengo.Connection(stim, sensory, function=lambda x: (np.sin(x*2), np.cos(x*2)))\n",
    "    nengo.Connection(sensory, spatial)\n"
   ]
  },
  {
   "cell_type": "code",
   "execution_count": 12,
   "metadata": {
    "collapsed": false
   },
   "outputs": [
    {
     "data": {
      "text/html": [
       "\n",
       "                <div id=\"24392a45-4b5e-4299-9f1f-ecaf3391710e\">\n",
       "                    <iframe\n",
       "                        src=\"http://localhost:55177\"\n",
       "                        width=\"100%\"\n",
       "                        height=\"600\"\n",
       "                        frameborder=\"0\"\n",
       "                        class=\"cell\"\n",
       "                        style=\"border: 1px solid #eee;\"\n",
       "                        allowfullscreen></iframe>\n",
       "                </div>\n",
       "            "
      ],
      "text/plain": [
       "<IPython.core.display.HTML object>"
      ]
     },
     "metadata": {},
     "output_type": "display_data"
    }
   ],
   "source": [
    "import nengo_gui.ipython\n",
    "nengo_gui.ipython.IPythonViz(model)"
   ]
  },
  {
   "cell_type": "code",
   "execution_count": 21,
   "metadata": {
    "collapsed": true
   },
   "outputs": [],
   "source": [
    "import nengo\n",
    "import numpy as np\n",
    "\n",
    "def run_sim(input_value=0):\n",
    "    model = nengo.Network(seed=3)\n",
    "    with model:\n",
    "        stim = nengo.Node([input_value])\n",
    "\n",
    "        sensory = nengo.Ensemble(n_neurons=100, dimensions=2, intercepts=nengo.dists.Uniform(0.7,0.95))\n",
    "\n",
    "        spatial = nengo.Ensemble(n_neurons=100, dimensions=2, intercepts=nengo.dists.Uniform(0.7,0.95))\n",
    "\n",
    "        nengo.Connection(stim, sensory, function=lambda x: (np.sin(x*2), np.cos(x*2)))\n",
    "        nengo.Connection(sensory, spatial)\n",
    "        #def rotate(x):\n",
    "        #    theta = np.arctan2(x[1], x[0])\n",
    "        #    theta += 0.1\n",
    "        #    return np.sin(theta), np.cos(theta)\n",
    "        #nengo.Connection(sensory, spatial, function=rotate)\n",
    "\n",
    "        sensory_probe = nengo.Probe(sensory.neurons)\n",
    "        spatial_probe = nengo.Probe(spatial.neurons)\n",
    "    \n",
    "    sim = nengo.Simulator(model)\n",
    "    with sim:\n",
    "        sim.run(1)\n",
    "    return np.mean(sim.data[spatial_probe], axis=0)\n"
   ]
  },
  {
   "cell_type": "code",
   "execution_count": 26,
   "metadata": {
    "collapsed": false
   },
   "outputs": [],
   "source": [
    "values = np.linspace(-1,1, 25)\n",
    "rates = []\n",
    "for v in values:\n",
    "    print v\n",
    "    rates.append(run_sim(v))\n",
    "    \n"
   ]
  },
  {
   "cell_type": "code",
   "execution_count": 27,
   "metadata": {
    "collapsed": false
   },
   "outputs": [],
   "source": [
    "rates = np.array(rates)\n",
    "%matplotlib inline"
   ]
  },
  {
   "cell_type": "code",
   "execution_count": 30,
   "metadata": {
    "collapsed": false
   },
   "outputs": [
    {
     "data": {
      "image/png": "[encoded data removed]",
      "text/plain": [
       "<matplotlib.figure.Figure at 0x12b26e80>"
      ]
     },
     "metadata": {},
     "output_type": "display_data"
    }
   ],
   "source": [
    "import pylab\n",
    "for i in range(10,20):\n",
    "    pylab.plot(values, rates[:,i])"
   ]
  },
  {
   "cell_type": "code",
   "execution_count": null,
   "metadata": {
    "collapsed": true
   },
   "outputs": [],
   "source": []
  }
 ],
 "metadata": {
  "kernelspec": {
   "display_name": "Python 2",
   "language": "python",
   "name": "python2"
  },
  "language_info": {
   "codemirror_mode": {
    "name": "ipython",
    "version": 2
   },
   "file_extension": ".py",
   "mimetype": "text/x-python",
   "name": "python",
   "nbconvert_exporter": "python",
   "pygments_lexer": "ipython2",
   "version": "2.7.5"
  }
 },
 "nbformat": 4,
 "nbformat_minor": 0
}
