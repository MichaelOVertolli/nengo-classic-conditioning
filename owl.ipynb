{
 "cells": [
  {
   "cell_type": "code",
   "execution_count": null,
   "metadata": {
    "collapsed": true
   },
   "outputs": [],
   "source": [
    "import nengo\n",
    "\n",
    "model = nengo.Network()\n",
    "with model:\n",
    "    stim = nengo.Node([0])\n",
    "    \n",
    "    sensory = nengo.Ensemble(n_neurons=100, dimensions=2)\n",
    "    \n",
    "    spatial = nengo.Ensemble(n_neurons=100, dimensions=2)\n",
    "    \n",
    "    c = nengo.Connection(sensory, spatial, learning_rule_type=nengo.PES())\n",
    "        \n",
    "    error = nengo.Ensemble(n_neurons=100, dimensions=2)\n",
    "    nengo.Connection(error, c.learning_rule)\n",
    "    \n",
    "    nengo.Connection(spatial, error)\n",
    "    correct = nengo.Node([0,0])\n",
    "    nengo.Connection(correct, error, transform=-1)"
   ]
  },
  {
   "cell_type": "code",
   "execution_count": 4,
   "metadata": {
    "collapsed": false
   },
   "outputs": [],
   "source": [
    "import nengo\n",
    "import numpy as np\n",
    "\n",
    "model = nengo.Network()\n",
    "with model:\n",
    "    stim = nengo.Node([0])\n",
    "    \n",
    "    sensory = nengo.Ensemble(n_neurons=100, dimensions=2, intercepts=nengo.dists.Uniform(0.7,0.95))\n",
    "    \n",
    "    spatial = nengo.Ensemble(n_neurons=100, dimensions=2, intercepts=nengo.dists.Uniform(0.7,0.95))\n",
    "    \n",
    "    nengo.Connection(stim, sensory, function=lambda x: (np.sin(x*np.pi), np.cos(x*np.pi)))\n",
    "    nengo.Connection(sensory, spatial)\n"
   ]
  },
  {
   "cell_type": "code",
   "execution_count": 5,
   "metadata": {
    "collapsed": false,
    "scrolled": true
   },
   "outputs": [
    {
     "data": {
      "text/html": [
       "\n",
       "                <div id=\"14af80ec-b6a3-4382-8484-d648ad0af5e9\">\n",
       "                    <iframe\n",
       "                        src=\"http://localhost:44652\"\n",
       "                        width=\"100%\"\n",
       "                        height=\"600\"\n",
       "                        frameborder=\"0\"\n",
       "                        class=\"cell\"\n",
       "                        style=\"border: 1px solid #eee;\"\n",
       "                        allowfullscreen></iframe>\n",
       "                </div>\n",
       "            "
      ],
      "text/plain": [
       "<IPython.core.display.HTML object>"
      ]
     },
     "metadata": {},
     "output_type": "display_data"
    }
   ],
   "source": [
    "import nengo_gui.ipython\n",
    "nengo_gui.ipython.IPythonViz(model)"
   ]
  },
  {
   "cell_type": "code",
   "execution_count": 419,
   "metadata": {
    "collapsed": true
   },
   "outputs": [],
   "source": [
    "import nengo\n",
    "import numpy as np\n",
    "\n",
    "def run_sim(input_value=0):\n",
    "    model = nengo.Network(seed=3)\n",
    "    with model:\n",
    "        stim = nengo.Node([input_value])\n",
    "\n",
    "        sensory = nengo.Ensemble(n_neurons=75, dimensions=2, intercepts=nengo.dists.Uniform(0.87,0.91))\n",
    "\n",
    "        spatial = nengo.Ensemble(n_neurons=75, dimensions=2, intercepts=nengo.dists.Uniform(0.87,0.91))\n",
    "\n",
    "        nengo.Connection(stim, sensory, function=lambda x: (np.sin(x*np.pi/2), np.cos(x*np.pi/2)))\n",
    "        nengo.Connection(sensory, spatial)\n",
    "        #def rotate(x):\n",
    "        #    theta = np.arctan2(x[1], x[0])\n",
    "        #    theta += 0.1\n",
    "        #    return np.sin(theta), np.cos(theta)\n",
    "        #nengo.Connection(sensory, spatial, function=rotate)\n",
    "\n",
    "        sensory_probe = nengo.Probe(sensory.neurons)\n",
    "        spatial_probe = nengo.Probe(spatial.neurons)\n",
    "    \n",
    "    sim = nengo.Simulator(model)\n",
    "    with sim:\n",
    "        sim.run(0.05)\n",
    "    return np.mean(sim.data[spatial_probe], axis=0)\n"
   ]
  },
  {
   "cell_type": "code",
   "execution_count": 420,
   "metadata": {
    "collapsed": false,
    "scrolled": true
   },
   "outputs": [
    {
     "name": "stdout",
     "output_type": "stream",
     "text": [
      "Simulation finished in 0:00:01.                                                 \n",
      "Simulation finished in 0:00:01.                                                 \n",
      "Simulation finished in 0:00:01.                                                 \n",
      "Simulation finished in 0:00:01.                                                 \n",
      "Simulation finished in 0:00:01.                                                 \n",
      "Simulation finished in 0:00:01.                                                 \n",
      "Simulation finished in 0:00:01.                                                 \n",
      "Simulation finished in 0:00:01.                                                 \n",
      "Simulation finished in 0:00:01.                                                 \n",
      "Simulation finished in 0:00:01.                                                 \n",
      "Simulation finished in 0:00:01.                                                 \n",
      "Simulation finished in 0:00:01.                                                 \n",
      "Simulation finished in 0:00:01.                                                 \n",
      "Simulation finished in 0:00:01.                                                 \n",
      "Simulation finished in 0:00:01.                                                 \n",
      "Simulation finished in 0:00:01.                                                 \n",
      "Simulation finished in 0:00:01.                                                 \n",
      "Simulation finished in 0:00:01.                                                 \n",
      "Simulation finished in 0:00:01.                                                 \n",
      "Simulation finished in 0:00:01.                                                 \n",
      "Simulation finished in 0:00:01.                                                 \n",
      "Simulation finished in 0:00:01.                                                 \n",
      "Simulation finished in 0:00:01.                                                 \n",
      "Simulation finished in 0:00:01.                                                 \n",
      "Simulation finished in 0:00:01.                                                 \n",
      "Simulation finished in 0:00:01.                                                 \n",
      "Simulation finished in 0:00:01.                                                 \n",
      "Simulation finished in 0:00:01.                                                 \n",
      "Simulation finished in 0:00:01.                                                 \n",
      "Simulation finished in 0:00:01.                                                 \n",
      "Simulation finished in 0:00:01.                                                 \n",
      "Simulation finished in 0:00:01.                                                 \n",
      "Simulation finished in 0:00:01.                                                 \n",
      "Simulation finished in 0:00:01.                                                 \n",
      "Simulation finished in 0:00:01.                                                 \n",
      "Simulation finished in 0:00:01.                                                 \n",
      "Simulation finished in 0:00:01.                                                 \n",
      "Simulation finished in 0:00:01.                                                 \n",
      "Simulation finished in 0:00:01.                                                 \n",
      "Simulation finished in 0:00:01.                                                 \n",
      "Simulation finished in 0:00:01.                                                 \n",
      "Simulation finished in 0:00:01.                                                 \n",
      "Simulation finished in 0:00:01.                                                 \n",
      "Simulation finished in 0:00:01.                                                 \n",
      "Simulation finished in 0:00:01.                                                 \n"
     ]
    }
   ],
   "source": [
    "values = np.linspace(-1,1, 45)\n",
    "rates = []\n",
    "for v in values:\n",
    "    out = run_sim(v)\n",
    "    #out /= np.max(out)\n",
    "    rates.append(out)\n",
    "    \n"
   ]
  },
  {
   "cell_type": "code",
   "execution_count": 421,
   "metadata": {
    "collapsed": false
   },
   "outputs": [
    {
     "name": "stdout",
     "output_type": "stream",
     "text": [
      "(45, 75)\n"
     ]
    }
   ],
   "source": [
    "rates = np.array(rates)\n",
    "print rates.shape\n",
    "%matplotlib inline"
   ]
  },
  {
   "cell_type": "code",
   "execution_count": 422,
   "metadata": {
    "collapsed": false
   },
   "outputs": [
    {
     "name": "stdout",
     "output_type": "stream",
     "text": [
      "[ 0.          0.          0.          0.          0.          0.          0.\n",
      "  0.          0.          0.          0.          0.          0.          0.\n",
      "  0.          0.          0.          0.          0.          0.          0.\n",
      "  0.          0.          0.          0.          0.          0.          0.\n",
      "  0.16666667  0.08333333  0.          0.08333333  0.58333333  0.66666667\n",
      "  0.66666667  0.66666667  0.58333333  0.5         0.5         0.58333333\n",
      "  0.58333333  0.66666667  0.58333333  0.58333333  0.33333333]\n"
     ]
    }
   ],
   "source": [
    "#assume that cells with similar peak centers would fall under the same\n",
    "#multicellular recording therefore peaks are done relative to all values with similar peaks\n",
    "nrm_rates = []\n",
    "rate_peaks = np.max(rates, axis=1)\n",
    "max_i = np.argmax(rates, axis=0)\n",
    "for j, i in enumerate(max_i):\n",
    "    nrm_rates.append(rates[:, j]/rate_peaks[i])\n",
    "nrm_rates = np.array(nrm_rates).transpose()\n",
    "print nrm_rates[:, 0]\n",
    "#print rates[0, 20], rates[1, 19], rates[8, 5]\n"
   ]
  },
  {
   "cell_type": "code",
   "execution_count": 423,
   "metadata": {
    "collapsed": false
   },
   "outputs": [
    {
     "name": "stdout",
     "output_type": "stream",
     "text": [
      "(8, 31)\n"
     ]
    },
    {
     "data": {
      "image/png": "[encoded data removed]",
      "text/plain": [
       "<matplotlib.figure.Figure at 0x7f785aa27150>"
      ]
     },
     "metadata": {},
     "output_type": "display_data"
    }
   ],
   "source": [
    "a = [[(i, x) for i, x in enumerate(nrm_rates[:, y]) if x >= 0.5] for y in range(nrm_rates.shape[1])]\n",
    "#below uses the protocol from the paper where the center value of the values with >= 50% of\n",
    "#the max value is used as the max\n",
    "maxes = [(i, b[len(b)/2][0]) for i, b in enumerate(a) if len(b) > 0]\n",
    "max_cuts = [nrm_rates[mx-15:mx+16, i] for i, mx in maxes if mx >= 15 and mx <= 29]\n",
    "max_cuts = np.array(max_cuts)\n",
    "print max_cuts.shape\n",
    "for v in range(max_cuts.shape[0]):\n",
    "    pylab.plot(range(-15, 16), max_cuts[v, :])"
   ]
  },
  {
   "cell_type": "code",
   "execution_count": 424,
   "metadata": {
    "collapsed": false
   },
   "outputs": [
    {
     "data": {
      "text/plain": [
       "[<matplotlib.lines.Line2D at 0x7f785a8e19d0>]"
      ]
     },
     "execution_count": 424,
     "metadata": {},
     "output_type": "execute_result"
    },
    {
     "data": {
      "image/png": "[encoded data removed]",
      "text/plain": [
       "<matplotlib.figure.Figure at 0x7f785aa21850>"
      ]
     },
     "metadata": {},
     "output_type": "display_data"
    }
   ],
   "source": [
    "pylab.plot(range(-15, 16), np.mean(max_cuts[:, :], axis=0))"
   ]
  },
  {
   "cell_type": "code",
   "execution_count": null,
   "metadata": {
    "collapsed": true
   },
   "outputs": [],
   "source": []
  }
 ],
 "metadata": {
  "kernelspec": {
   "display_name": "Python 2",
   "language": "python",
   "name": "python2"
  },
  "language_info": {
   "codemirror_mode": {
    "name": "ipython",
    "version": 2
   },
   "file_extension": ".py",
   "mimetype": "text/x-python",
   "name": "python",
   "nbconvert_exporter": "python",
   "pygments_lexer": "ipython2",
   "version": "2.7.10"
  }
 },
 "nbformat": 4,
 "nbformat_minor": 0
}
