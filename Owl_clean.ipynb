{
 "cells": [
  {
   "cell_type": "code",
   "execution_count": 1,
   "metadata": {
    "collapsed": false
   },
   "outputs": [],
   "source": [
    "from matplotlib import pylab\n",
    "import nengo\n",
    "import numpy as np\n",
    "\n",
    "%matplotlib inline"
   ]
  },
  {
   "cell_type": "code",
   "execution_count": 2,
   "metadata": {
    "collapsed": false
   },
   "outputs": [],
   "source": [
    "STEP = 0.001#s\n",
    "EQ_MARGIN = 0.0001\n",
    "SIM_TIME = 50#s\n",
    "SWITCH_TIME = 0.500#s\n",
    "SWITCH_TIME2 = 0.050#s\n",
    "CHECKS = 45\n",
    "DIVIDER = 1\n",
    "SIM_TIME2 = SWITCH_TIME2#s\n",
    "DIST = 10\n",
    "D_STEP = 10\n",
    "MOD = 23\n",
    "B_STEP = 180/CHECKS\n",
    "def fn(j, vals, vals2, vals3):\n",
    "    s = SWITCH_TIME\n",
    "    vs = vals\n",
    "#    cur = STEP\n",
    "    i = 0\n",
    "    #prep yield\n",
    "    t = yield\n",
    "    init = t\n",
    "    cur = init\n",
    "    #print t\n",
    "    while True:\n",
    "    #initial training\n",
    "        if -EQ_MARGIN <= t-SIM_TIME-init <= EQ_MARGIN:\n",
    "            break\n",
    "        if -EQ_MARGIN <= t-cur-s <= EQ_MARGIN:\n",
    "            #print '*********************************************'\n",
    "            cur = t\n",
    "            i += 1\n",
    "        t = yield [vs[i], 0, 1]\n",
    "        #print cur, t, t-cur, s, t-cur-s, -EQ_MARGIN <= t-cur-s <= EQ_MARGIN\n",
    "        j.append(vs[i])\n",
    "    s = SWITCH_TIME2\n",
    "    vs = vals2\n",
    "    cur = t\n",
    "    i = 0\n",
    "    while True:\n",
    "    #assessment 1\n",
    "        if i >= len(vals2):\n",
    "            print 'too far', t\n",
    "            break\n",
    "        t = yield [vs[i], 0, 0]\n",
    "        j.append(vs[i])\n",
    "        if -EQ_MARGIN <= t-cur-s <= EQ_MARGIN:\n",
    "            cur = t\n",
    "            i += 1\n",
    "    s = SWITCH_TIME\n",
    "    vs = vals3\n",
    "    cur = t\n",
    "    resim_time = SIM_TIME/DIVIDER+t\n",
    "    i = 0\n",
    "    while True:\n",
    "    #retraining\n",
    "        if -EQ_MARGIN <= t-resim_time <= EQ_MARGIN:\n",
    "            break\n",
    "        if -EQ_MARGIN <= t-cur-s <= EQ_MARGIN:\n",
    "            cur = t\n",
    "            i += 1\n",
    "        t = yield [vs[i], 1, 0.5]\n",
    "        j.append(vs[i])\n",
    "    s = SWITCH_TIME2\n",
    "    vs = vals2\n",
    "    cur = t\n",
    "    i = 0\n",
    "    while True:\n",
    "    #assessment 2\n",
    "        if i >= len(vals2):\n",
    "            print 'too far', t\n",
    "            break\n",
    "        t = yield [vs[i], 0, 0]\n",
    "        j.append(vs[i])\n",
    "        if -EQ_MARGIN <= t-cur-s <= EQ_MARGIN:\n",
    "            cur = t\n",
    "            i += 1\n",
    "    while True:\n",
    "        t = yield [0, 0, 0]"
   ]
  },
  {
   "cell_type": "code",
   "execution_count": 3,
   "metadata": {
    "collapsed": false
   },
   "outputs": [],
   "source": [
    "model = nengo.Network(seed=3)\n",
    "dist = nengo.dists.Uniform(-1.0, 1.0)\n",
    "vals = dist.sample((SIM_TIME/SWITCH_TIME)+1)\n",
    "vals3 = dist.sample((SIM_TIME/SWITCH_TIME/DIVIDER)+1)\n",
    "vals2 = np.linspace(-1, 1, CHECKS)\n",
    "GAP = vals2[1]-vals2[0]\n",
    "j=[]\n",
    "func = fn(j, vals, vals2, vals3)\n",
    "func.next()\n",
    "func = func.send"
   ]
  },
  {
   "cell_type": "code",
   "execution_count": 4,
   "metadata": {
    "collapsed": false
   },
   "outputs": [],
   "source": [
    "#xx = [np.sin(x*np.pi/2) for x in np.linspace(-1, 1, 45)]\n",
    "#yy = [np.cos(x*np.pi/2) for x in np.linspace(-1, 1, 45)]\n",
    "#print xx\n",
    "#pylab.plot(xx, yy)\n",
    "#for i in range(len(xx)-1):\n",
    "#    pylab.plot([xx[i], 0], [yy[i], 0])"
   ]
  },
  {
   "cell_type": "code",
   "execution_count": 5,
   "metadata": {
    "collapsed": false
   },
   "outputs": [],
   "source": [
    "#time = int(2*(SIM_TIME/STEP)+3*(CHECKS*SWITCH_TIME2/STEP))\n",
    "#print time\n",
    "#a = [func(0.001*x) for x in range(1, time+1)]"
   ]
  },
  {
   "cell_type": "code",
   "execution_count": 6,
   "metadata": {
    "collapsed": false
   },
   "outputs": [],
   "source": [
    "#b = np.array(a)\n",
    "#c = b[:, 0]\n",
    "#print list(c).index(-1.0)\n",
    "#print c[2406700:2406750]\n",
    "#print c.shape"
   ]
  },
  {
   "cell_type": "code",
   "execution_count": 7,
   "metadata": {
    "collapsed": false
   },
   "outputs": [],
   "source": [
    "#d = {}\n",
    "#z=52200\n",
    "#for a in set(c[:]):\n",
    "#    d[a] = 0\n",
    "#for a in c[:]:\n",
    "#    d[a] += 1\n",
    "#for k in d:\n",
    "#    if d[k] != 500 and d[k] != 1500 and d[k] != 50 and d[k] != 150:\n",
    "#        print k, d[k]\n",
    "#print c[0], c[499], c[500], c[999], c[1000], c[1499]\n",
    "#print c[49998], c[49999]\n",
    "#print c[3501], c[4001], c[1500], c[2000], c[2001]\n",
    "#print c[52200-1:52250]\n",
    "#print [i for i, x in enumerate(c[:z]) if -0.01 < x+0.421665933532 < 0.01]"
   ]
  },
  {
   "cell_type": "code",
   "execution_count": 8,
   "metadata": {
    "collapsed": true
   },
   "outputs": [],
   "source": [
    "def convertandmod(v):\n",
    "    #assumes a left-biased prism\n",
    "    temp = np.arcsin(v)*2/np.pi\n",
    "    print temp\n",
    "    temp -= GAP*MOD/B_STEP\n",
    "    return np.sin(temp*np.pi/2), np.cos(temp*np.pi/2)"
   ]
  },
  {
   "cell_type": "code",
   "execution_count": 9,
   "metadata": {
    "collapsed": false
   },
   "outputs": [],
   "source": [
    "#print np.sin((0.5-(GAP*MOD/B_STEP))*np.pi/2)\n",
    "#print convertandmod(np.sin(0.5*np.pi/2))\n",
    "\n",
    "#n=35\n",
    "#pylab.plot(xx, yy)\n",
    "#pylab.plot([xx[n], 0], [yy[n], 0])\n",
    "#pylab.plot([convertandmod(xx[n])[0], 0], [convertandmod(xx[n])[1], 0])"
   ]
  },
  {
   "cell_type": "code",
   "execution_count": 10,
   "metadata": {
    "collapsed": false
   },
   "outputs": [],
   "source": [
    "with model:\n",
    "    stim = nengo.Node(func)\n",
    "    \n",
    "    sensory = nengo.Ensemble(n_neurons=400, dimensions=3,\n",
    "                            intercepts=nengo.dists.Uniform(0.81,0.91))\n",
    "    \n",
    "    \n",
    "    spatial = nengo.Ensemble(n_neurons=400, dimensions=2,\n",
    "                            intercepts=nengo.dists.Uniform(0.81,0.91))\n",
    "    \n",
    "    nengo.Connection(stim, sensory[:],\n",
    "                     function=lambda x: (np.sin(x[0]*np.pi/2), \n",
    "                                         np.cos(x[0]*np.pi/2), \n",
    "                                         x[1]))\n",
    "    \n",
    "    #nengo.Connection(sensory[:2], sensory[2:], synapse=0.2)\n",
    "    \n",
    "    c = nengo.Connection(sensory, spatial, function=lambda x: [0,0],\n",
    "                         learning_rule_type=nengo.PES(learning_rate=3e-4))\n",
    "        \n",
    "    error = nengo.Ensemble(n_neurons=400, dimensions=3)\n",
    "    \n",
    "    nengo.Connection(stim[2], error[2])\n",
    "    nengo.Connection(sensory[:2], error[:2],\n",
    "                     transform=-1)\n",
    "    nengo.Connection(error, c.learning_rule, \n",
    "                     #0.19 is 17deg shift (need more negative to mitigate it)\n",
    "                     function=lambda x: x[:2] if x[2] > 0.7 else convertandmod(x[0]) if x[2] > 0.3 else [0, 0])\n",
    "    #nengo.Connection(spatial, c.learning_rule, synapse=0.1)\n",
    "    \n",
    "    nengo.Connection(spatial, error[:2])\n",
    "    #correct = nengo.Node([0,0])\n",
    "    #nengo.Connection(correct, error, transform=-1)\n",
    "    \n",
    "    spatial_probe = nengo.Probe(spatial.neurons)\n",
    "    \n"
   ]
  },
  {
   "cell_type": "code",
   "execution_count": 11,
   "metadata": {
    "collapsed": false
   },
   "outputs": [],
   "source": [
    "def sim_gen(time, cnt):\n",
    "    cur = 0\n",
    "    yield np.mean(sim.data[spatial_probe][-int(SWITCH_TIME2/STEP):], axis=0) #prep\n",
    "    while cur <= cnt:\n",
    "        sim.run(time, progress_bar=False)\n",
    "        yield np.mean(sim.data[spatial_probe][-int(SWITCH_TIME2/STEP):], axis=0)\n",
    "        #print sim.data[spatial_probe].shape\n",
    "        cur += 1\n",
    "        \n",
    "def calc_norm(rates, rate_peaks=None):\n",
    "    #assume that cells with similar peak centers would fall under the same\n",
    "    #multicellular recording therefore peaks are done relative to all values with similar peaks\n",
    "    nrm_rates = []\n",
    "    if rate_peaks is None:\n",
    "        rate_peaks = np.max(rates, axis=1)\n",
    "        rate_peaks = np.array([p if p > 0 else 1 for p in rate_peaks])\n",
    "    max_i = np.argmax(rates, axis=0)\n",
    "    for j, i in enumerate(max_i):\n",
    "        nrm_rates.append(rates[:, j]/rate_peaks[i])\n",
    "    nrm_rates = np.array(nrm_rates).transpose()\n",
    "    return nrm_rates, rate_peaks\n",
    "\n",
    "#def align_cut(nrm, dist, num_checks, maxes=None):\n",
    "    #below uses the protocol from the paper where the center value of the values with >= 50% of\n",
    "    #the max value is used as the max\n",
    "    #cut assumes that it is not multimodal\n",
    "#    if maxes is None:\n",
    "#        cut = [[(i, neuron_val) for i, neuron_val in enumerate(nrm[:, col]) \n",
    "#                if neuron_val >= 0.5] for col in range(nrm.shape[1])]\n",
    "#        maxes = [(i, neuron_vals[len(neuron_vals)/2][0]) \n",
    "#                 for i, neuron_vals in enumerate(cut) \n",
    "#                 if len(neuron_vals) > 0]\n",
    "#    max_cuts = [nrm[mx-dist:mx+dist+1, i] \n",
    "#                for i, mx in maxes \n",
    "#                if mx >= dist and mx <= num_checks-(dist+1)]\n",
    "#    return np.array(max_cuts), maxes\n",
    "\n",
    "def align_cut2(nrm, dist, num_checks, maxes=None):\n",
    "    if maxes is None:\n",
    "        #temp = {k: nrm[:, k] for k in range(nrm.shape[1])}\n",
    "        #print temp[1]\n",
    "        cut = {col: [(i, neuron_val) for i, neuron_val in enumerate(nrm[:, col]) \n",
    "                   if neuron_val > 0.5] \n",
    "               for col in range(nrm.shape[1])}\n",
    "        #print cut[1]\n",
    "        maxes = {k: neuron_vals[len(neuron_vals)/2][0] for k, neuron_vals in cut.items()\n",
    "                if len(neuron_vals) > 0}\n",
    "        for k in cut:\n",
    "            try:\n",
    "                maxes[k]\n",
    "            except KeyError:\n",
    "                maxes[k] = 0\n",
    "    max_cuts = {i: nrm[mx-dist:mx+dist+1, i] \n",
    "                for i, mx in maxes.items() \n",
    "                if mx >= dist and mx <= num_checks-(dist+1)}\n",
    "    return max_cuts, maxes\n",
    "\n",
    "def prep_graph(time, cnt, dist):\n",
    "    sim_g = sim_gen(time, cnt)\n",
    "    sim_g.next()\n",
    "    return align_cut(calc_norm(np.array([mean for mean in sim_g])), dist)\n",
    "\n",
    "def graph_neurons(vals, step):\n",
    "    for v in range(vals.shape[0]):\n",
    "        pylab.plot(range(-DIST*step, DIST*step+1, step), vals[v, :])\n",
    "\n",
    "def graph_mean(mean, step):\n",
    "    pylab.plot(range(-DIST*step, DIST*step+1, step), mean)\n",
    "    \n",
    "def filtered_mean(vals):\n",
    "    return np.mean([x for x in vals if sum(x) > 0], axis=0)"
   ]
  },
  {
   "cell_type": "code",
   "execution_count": 12,
   "metadata": {
    "collapsed": false
   },
   "outputs": [],
   "source": [
    "#a, m = align_cut2(n2, DIST, len(vals2))\n",
    "#print m.keys() == range(400)"
   ]
  },
  {
   "cell_type": "code",
   "execution_count": 13,
   "metadata": {
    "collapsed": false
   },
   "outputs": [
    {
     "name": "stdout",
     "output_type": "stream",
     "text": [
      "-0.310930235062\n",
      "0.60033395777\n",
      "-0.353033171187\n",
      "-0.131770820653\n",
      "-0.147964666609\n",
      "-0.0121276974376\n",
      "0.457063009476\n",
      "0.326799903905\n",
      "0.0566987724852\n",
      "-0.31214560937\n",
      "0.0761539885266\n",
      "0.344518038324\n",
      "0.570609010105\n",
      "-0.205023087897\n",
      "0.136896875686\n",
      "-0.504203430839\n",
      "0.0408419330257\n",
      "0.0736048979464\n",
      "-0.466359807598\n",
      "-0.497273142277\n",
      "-0.0756997111488\n",
      "0.428440340309\n",
      "0.238654452009\n",
      "-0.380078015652\n",
      "0.545063004552\n",
      "0.601181788025\n",
      "-0.346806737001\n",
      "0.486295514504\n",
      "-0.439104282232\n",
      "0.0354486517844\n",
      "0.0813750469879\n",
      "0.368566283679\n",
      "-0.351187851492\n",
      "0.315611995003\n",
      "0.25233541304\n",
      "-0.487845911397\n",
      "-0.156090378739\n",
      "0.0580187082794\n",
      "-0.174168109813\n",
      "-0.427789047422\n",
      "-0.183313944301\n",
      "0.428829340866\n",
      "-0.2799991562\n",
      "-0.297452332711\n",
      "0.11867028909\n",
      "-0.411309173991\n",
      "0.0742616218192\n",
      "0.222891740015\n",
      "-0.00649639327252\n",
      "-0.303547048663\n",
      "-0.43454059342\n",
      "0.362662901733\n",
      "-0.457180531563\n",
      "0.160645579012\n",
      "0.560264170913\n",
      "0.0224268351274\n",
      "0.116426500424\n",
      "0.0984542956442\n",
      "0.122810420618\n",
      "-0.380943540509\n",
      "0.312295037756\n",
      "-0.125748989425\n",
      "0.266687431248\n",
      "-0.0203154608768\n",
      "-0.0796165087772\n",
      "-0.290437640775\n",
      "0.504196727103\n",
      "-0.12088090939\n",
      "0.6551820063\n",
      "-0.193241536996\n",
      "-0.349680479819\n",
      "0.438826020014\n",
      "0.30918821248\n",
      "-0.154618943007\n",
      "-0.710325226457\n",
      "-0.133213560029\n",
      "-0.00309460196332\n",
      "0.162980926756\n",
      "0.153981590464\n",
      "-0.0668834872207\n",
      "0.693303386803\n",
      "-0.365092556253\n",
      "0.144260245916\n",
      "-0.0647591777294\n",
      "-0.360745492439\n",
      "0.254829273669\n",
      "0.334800748536\n",
      "-0.178394909151\n",
      "-0.464378988867\n",
      "0.144968353323\n",
      "0.0180954560877\n",
      "-0.158508079956\n",
      "0.0895871094832\n",
      "0.0616243839861\n",
      "-0.235374652035\n",
      "0.400212583591\n",
      "-0.431525133446\n",
      "-0.201479947928\n",
      "0.261624074008\n",
      "0.131461462306\n",
      "-0.334683966124\n",
      "0.202185645285\n",
      "-0.187015696975\n",
      "0.0849484693089\n",
      "-0.197054577306\n",
      "-0.253386288808\n",
      "-0.0885965483831\n",
      "0.221162418912\n",
      "0.423405839255\n",
      "-0.114855186683\n",
      "0.402095956301\n",
      "0.483300633615\n",
      "-0.082728098896\n",
      "-0.282250766808\n",
      "-0.569948862918\n",
      "0.175669058472\n",
      "-0.0506615807248\n",
      "-0.118429541048\n",
      "-0.106800803063\n",
      "0.0410201433918\n",
      "0.0704265595223\n",
      "0.362228504149\n",
      "-0.141844998274\n",
      "-0.183005427306\n",
      "0.0343449427601\n",
      "0.119558282412\n",
      "0.379103296232\n",
      "-0.178019057528\n",
      "0.370968484699\n",
      "-0.353863436274\n",
      "-0.388430847533\n",
      "0.430345963314\n",
      "-0.0573278912186\n",
      "0.124575677865\n",
      "0.138506204861\n",
      "-0.14388995349\n",
      "-0.283040730909\n",
      "0.122226649989\n",
      "0.355698016285\n",
      "0.0028699306713\n",
      "-0.273166819525\n",
      "0.342952702419\n",
      "0.365758870491\n",
      "0.171451731981\n",
      "-0.369780707992\n",
      "0.209969180544\n",
      "-0.100986983531\n",
      "0.203008231243\n",
      "0.199351410042\n",
      "0.447619864465\n",
      "0.320883196033\n",
      "-0.443545780768\n",
      "0.205893022282\n",
      "0.330228168557\n",
      "0.377087208117\n",
      "0.520462562737\n",
      "-0.30936606812\n",
      "0.511994897755\n",
      "-0.00631681509046\n",
      "0.215891004558\n",
      "-0.337200380085\n",
      "0.174193090619\n",
      "-0.296704860156\n",
      "-0.0480631548107\n",
      "-0.279790335101\n",
      "0.44127383676\n",
      "0.210388329293\n",
      "-0.426509061804\n",
      "-0.207218916996\n",
      "0.233529969803\n",
      "0.308835310944\n",
      "0.745273973464\n",
      "0.0829425096819\n",
      "-0.100585081355\n",
      "-0.45553716262\n",
      "0.104705819404\n",
      "0.0645277874029\n",
      "0.364680514919\n",
      "-0.263867713122\n",
      "-0.0979729019525\n",
      "-0.164440805384\n",
      "-0.360558650672\n",
      "-0.341236562115\n",
      "-0.272571929986\n",
      "-0.367321721041\n",
      "-0.0270771782593\n",
      "0.0323129114029\n",
      "0.060204590387\n",
      "-0.0158208305096\n",
      "0.204409921232\n",
      "0.646794123656\n",
      "-0.14896407195\n",
      "-0.304158017615\n",
      "-0.486539419908\n",
      "0.0478666489488\n",
      "-0.416217816619\n",
      "0.360449045522\n",
      "-0.434635549434\n",
      "-0.164394751959\n",
      "-0.197094965491\n",
      "0.394240118277\n",
      "0.42439241797\n",
      "-0.42503409916\n",
      "0.0795415119235\n",
      "-0.34767739388\n",
      "0.609635318207\n",
      "-0.341949741104\n",
      "-0.403609122482\n",
      "0.0874283435268\n",
      "0.054973320508\n",
      "0.286423384979\n",
      "-0.453861497134\n",
      "-0.269372289623\n",
      "-0.0394316648867\n",
      "-0.477852456947\n",
      "0.0345710611945\n",
      "-0.140255902715\n",
      "-0.170090894064\n",
      "-0.00103754110761\n",
      "0.526388485652\n",
      "0.0694481200336\n",
      "0.0138503567049\n",
      "0.284313235894\n",
      "-0.511898907699\n",
      "-0.300816490835\n",
      "-0.395873269191\n",
      "0.157242854898\n",
      "-0.262940318826\n",
      "-0.309526124001\n",
      "0.046612317015\n",
      "-0.24495117542\n",
      "-0.52296252548\n",
      "-0.377815092983\n",
      "0.280317893521\n",
      "0.0791543164624\n",
      "-0.152307274758\n",
      "-0.0142277750747\n",
      "0.0593110992645\n",
      "-0.40808751004\n",
      "0.0451629271914\n",
      "0.281992962526\n",
      "-0.399258452005\n",
      "0.298635179942\n",
      "0.41421672877\n",
      "-0.513638093321\n",
      "0.442676142342\n",
      "0.531768448946\n",
      "0.633608250098\n",
      "0.506308072743\n",
      "-0.104921565196\n",
      "0.357356036931\n",
      "0.6076169074\n",
      "0.251952397216\n",
      "-0.373168184464\n",
      "-0.00654129015286\n",
      "-0.32196384261\n",
      "0.00649967849065\n",
      "0.322628089991\n",
      "0.0246385656683\n",
      "0.44301990275\n",
      "-0.17642978918\n",
      "0.277432425472\n",
      "0.473957527307\n",
      "-0.428990926579\n",
      "-0.4209769176\n",
      "0.0841501546724\n",
      "0.47560820866\n",
      "0.134923562582\n",
      "0.418193411595\n",
      "0.225381090962\n",
      "-0.473242500771\n",
      "-0.202927270202\n",
      "-0.336433039016\n",
      "0.52475755221\n",
      "0.439372709689\n",
      "0.273156406469\n",
      "-0.341048600809\n",
      "0.00816737578391\n",
      "0.283673836372\n",
      "-0.0814264344523\n",
      "0.439188035189\n",
      "0.174369911098\n",
      "-0.523324168604\n",
      "-0.269834439652\n",
      "-0.216508621655\n",
      "-0.35555854362\n",
      "-0.21897827515\n",
      "0.0662620460582\n",
      "0.113037912436\n",
      "-0.0331031902696\n",
      "-0.484427503435\n",
      "0.0193359959454\n",
      "0.368002683898\n",
      "-0.0546223273727\n",
      "-0.410215465726\n",
      "-0.189247887105\n",
      "-0.426115597273\n",
      "0.421621937736\n",
      "-0.459612092965\n",
      "-0.257527073906\n",
      "0.547383766093\n",
      "-0.171871547754\n",
      "-0.331053506089\n",
      "-0.284079433296\n",
      "-0.108509200104\n",
      "-0.183783496537\n",
      "0.354816319355\n",
      "-0.231846792452\n",
      "0.118498827145\n",
      "-0.0398536135829\n",
      "-0.301840660776\n",
      "-0.104547977091\n",
      "0.271499186098\n",
      "-0.22153994581\n",
      "0.120864349521\n",
      "-0.0627635241811\n",
      "0.15874805927\n"
     ]
    }
   ],
   "source": [
    "sim = nengo.Simulator(model)"
   ]
  },
  {
   "cell_type": "code",
   "execution_count": 14,
   "metadata": {
    "collapsed": false
   },
   "outputs": [
    {
     "name": "stdout",
     "output_type": "stream",
     "text": [
      "Simulation finished in 0:00:20.                                                 \n"
     ]
    }
   ],
   "source": [
    "sim.run(SIM_TIME)"
   ]
  },
  {
   "cell_type": "code",
   "execution_count": 15,
   "metadata": {
    "collapsed": false,
    "scrolled": true
   },
   "outputs": [
    {
     "name": "stdout",
     "output_type": "stream",
     "text": [
      "too far 52.25\n"
     ]
    }
   ],
   "source": [
    "sim_g = sim_gen(SIM_TIME2, len(vals2)-1)\n",
    "a=sim_g.next()\n",
    "#print a.shape\n",
    "mean = np.array([mean for mean in sim_g])\n",
    "#print mean.shape\n",
    "#Y = len(j)\n",
    "#print Y"
   ]
  },
  {
   "cell_type": "code",
   "execution_count": 16,
   "metadata": {
    "collapsed": false
   },
   "outputs": [],
   "source": [
    "n, rate_peaks = calc_norm(mean)"
   ]
  },
  {
   "cell_type": "code",
   "execution_count": 17,
   "metadata": {
    "collapsed": false
   },
   "outputs": [
    {
     "name": "stdout",
     "output_type": "stream",
     "text": [
      "(104, 21)\n",
      "[21, 21, 21, 21, 21, 21, 21, 21, 21, 21, 21, 21, 21, 21, 21, 21, 21, 21, 21, 21, 21, 21, 21, 21, 21, 21, 21, 21, 21, 21, 21, 21, 21, 21, 21, 21, 21, 21, 21, 21, 21, 21, 21, 21, 21, 21, 21, 21, 21, 21, 21, 21, 21, 21, 21, 21, 21, 21, 21, 21, 21, 21, 21, 21, 21, 21, 21, 21, 21, 21, 21, 21, 21, 21, 21, 21, 21, 21, 21, 21, 21, 21, 21, 21, 21, 21, 21, 21, 21, 21, 21, 21, 21, 21, 21, 21, 21, 21, 21, 21, 21, 21, 21, 21]\n",
      "(21,)\n"
     ]
    }
   ],
   "source": [
    "out_, maxes = align_cut2(n, DIST, len(vals2))\n",
    "out = np.array(out_.values())\n",
    "print out.shape\n",
    "print [len(x) for x in out]\n",
    "mean_out = np.mean(out, axis=0)\n",
    "print mean_out.shape"
   ]
  },
  {
   "cell_type": "code",
   "execution_count": 18,
   "metadata": {
    "collapsed": false
   },
   "outputs": [
    {
     "data": {
      "image/png": "[encoded data removed]",
      "text/plain": [
       "<matplotlib.figure.Figure at 0x7f049e0fbe10>"
      ]
     },
     "metadata": {},
     "output_type": "display_data"
    }
   ],
   "source": [
    "graph_neurons(out[:10], D_STEP)"
   ]
  },
  {
   "cell_type": "code",
   "execution_count": 19,
   "metadata": {
    "collapsed": false,
    "scrolled": true
   },
   "outputs": [
    {
     "data": {
      "image/png": "[encoded data removed]",
      "text/plain": [
       "<matplotlib.figure.Figure at 0x7f049db9a150>"
      ]
     },
     "metadata": {},
     "output_type": "display_data"
    }
   ],
   "source": [
    "graph_mean(mean_out, D_STEP)"
   ]
  },
  {
   "cell_type": "code",
   "execution_count": 20,
   "metadata": {
    "collapsed": false,
    "scrolled": true
   },
   "outputs": [
    {
     "name": "stdout",
     "output_type": "stream",
     "text": [
      "Simulation finished in 0:00:20.                                                 \n"
     ]
    }
   ],
   "source": [
    "sim.run(SIM_TIME/DIVIDER)"
   ]
  },
  {
   "cell_type": "code",
   "execution_count": 21,
   "metadata": {
    "collapsed": false
   },
   "outputs": [
    {
     "name": "stdout",
     "output_type": "stream",
     "text": [
      "too far 104.5\n",
      "(45, 400)\n"
     ]
    }
   ],
   "source": [
    "sim_g = sim_gen(SIM_TIME2, len(vals2)-1)\n",
    "a2=sim_g.next()\n",
    "#print a.shape\n",
    "mean2 = np.array([mean for mean in sim_g])\n",
    "print mean2.shape"
   ]
  },
  {
   "cell_type": "code",
   "execution_count": 22,
   "metadata": {
    "collapsed": true
   },
   "outputs": [],
   "source": [
    "n2, rate_peaks2 = calc_norm(mean2)"
   ]
  },
  {
   "cell_type": "code",
   "execution_count": 23,
   "metadata": {
    "collapsed": false
   },
   "outputs": [
    {
     "name": "stdout",
     "output_type": "stream",
     "text": [
      "(94, 21)\n",
      "[ 0.36363636  0.40909091  0.45454545  0.5         0.59090909  0.63636364\n",
      "  0.72727273  0.68181818  0.63636364  0.59090909  0.63636364  0.72727273\n",
      "  0.68181818  0.63636364  0.59090909  0.54545455  0.40909091  0.45454545\n",
      "  0.36363636  0.22727273  0.04545455]\n",
      "[21, 21, 21, 21, 21, 21, 21, 21, 21, 21, 21, 21, 21, 21, 21, 21, 21, 21, 21, 21, 21, 21, 21, 21, 21, 21, 21, 21, 21, 21, 21, 21, 21, 21, 21, 21, 21, 21, 21, 21, 21, 21, 21, 21, 21, 21, 21, 21, 21, 21, 21, 21, 21, 21, 21, 21, 21, 21, 21, 21, 21, 21, 21, 21, 21, 21, 21, 21, 21, 21, 21, 21, 21, 21, 21, 21, 21, 21, 21, 21, 21, 21, 21, 21, 21, 21, 21, 21, 21, 21, 21, 21, 21, 21]\n",
      "(21,)\n"
     ]
    }
   ],
   "source": [
    "#Centered the graphs relative to themselves\n",
    "out_2, maxes2 = align_cut2(n2, DIST, len(vals2))\n",
    "out2 = np.array(out_2.values())\n",
    "print out2.shape\n",
    "print out[0]\n",
    "print [len(x) for x in out2]\n",
    "mean_out2 = filtered_mean(out2)\n",
    "print mean_out2.shape"
   ]
  },
  {
   "cell_type": "code",
   "execution_count": 24,
   "metadata": {
    "collapsed": false
   },
   "outputs": [
    {
     "data": {
      "image/png": "[encoded data removed]",
      "text/plain": [
       "<matplotlib.figure.Figure at 0x7f049da30ad0>"
      ]
     },
     "metadata": {},
     "output_type": "display_data"
    }
   ],
   "source": [
    "graph_neurons(out2[:10], D_STEP)"
   ]
  },
  {
   "cell_type": "code",
   "execution_count": 25,
   "metadata": {
    "collapsed": false
   },
   "outputs": [
    {
     "data": {
      "image/png": "[encoded data removed]",
      "text/plain": [
       "<matplotlib.figure.Figure at 0x7f049daf3a50>"
      ]
     },
     "metadata": {},
     "output_type": "display_data"
    }
   ],
   "source": [
    "graph_mean(mean_out2, D_STEP)"
   ]
  },
  {
   "cell_type": "code",
   "execution_count": 26,
   "metadata": {
    "collapsed": false
   },
   "outputs": [
    {
     "name": "stdout",
     "output_type": "stream",
     "text": [
      "(104, 21)\n",
      "[21, 21, 21, 21, 21, 21, 21, 21, 21, 21, 21, 21, 21, 21, 21, 21, 21, 21, 21, 21, 21, 21, 21, 21, 21, 21, 21, 21, 21, 21, 21, 21, 21, 21, 21, 21, 21, 21, 21, 21, 21, 21, 21, 21, 21, 21, 21, 21, 21, 21, 21, 21, 21, 21, 21, 21, 21, 21, 21, 21, 21, 21, 21, 21, 21, 21, 21, 21, 21, 21, 21, 21, 21, 21, 21, 21, 21, 21, 21, 21, 21, 21, 21, 21, 21, 21, 21, 21, 21, 21, 21, 21, 21, 21, 21, 21, 21, 21, 21, 21, 21, 21, 21, 21]\n"
     ]
    }
   ],
   "source": [
    "#Centered the graphs relative to the original distribution\n",
    "out_3, maxes3 = align_cut2(n2, DIST, len(vals2), maxes)\n",
    "out3 = np.array(out_3.values())\n",
    "print out3.shape\n",
    "print [len(x) for x in out3]\n",
    "mean_out3 = filtered_mean(out3)\n",
    "#print np.mean([x for x in out3 if sum(x) > 0], axis=1)\n",
    "#print np.sum([x for x in out3 if sum(x) > 0], axis=1)\n",
    "#print mean_out3.shape"
   ]
  },
  {
   "cell_type": "code",
   "execution_count": 27,
   "metadata": {
    "collapsed": false
   },
   "outputs": [
    {
     "data": {
      "image/png": "[encoded data removed]",
      "text/plain": [
       "<matplotlib.figure.Figure at 0x7f049d3eb410>"
      ]
     },
     "metadata": {},
     "output_type": "display_data"
    }
   ],
   "source": [
    "graph_neurons(out3[:10], D_STEP)"
   ]
  },
  {
   "cell_type": "code",
   "execution_count": 28,
   "metadata": {
    "collapsed": false
   },
   "outputs": [
    {
     "data": {
      "image/png": "[encoded data removed]",
      "text/plain": [
       "<matplotlib.figure.Figure at 0x7f049d3236d0>"
      ]
     },
     "metadata": {},
     "output_type": "display_data"
    }
   ],
   "source": [
    "graph_mean(mean_out3, D_STEP)"
   ]
  },
  {
   "cell_type": "code",
   "execution_count": 29,
   "metadata": {
    "collapsed": false
   },
   "outputs": [
    {
     "name": "stdout",
     "output_type": "stream",
     "text": [
      "1\n",
      "16\n",
      "22\n",
      "[ 0.43478261  0.52173913  0.65217391]\n",
      "[ 0.          0.          0.          0.          0.13043478  0.47826087\n",
      "  0.47826087  0.47826087  0.39130435  0.43478261  0.52173913  0.65217391\n",
      "  0.65217391  0.65217391  0.60869565  0.60869565  0.65217391  0.65217391\n",
      "  0.69565217  0.69565217  0.65217391]\n",
      "[ 0.47826087  0.47826087  0.39130435  0.43478261  0.52173913  0.65217391\n",
      "  0.65217391  0.65217391  0.60869565  0.60869565  0.65217391  0.65217391\n",
      "  0.69565217  0.69565217  0.65217391  0.56521739  0.56521739  0.43478261\n",
      "  0.30434783  0.04347826  0.        ]\n",
      "[ 0.          0.          0.          0.          0.13043478  0.47826087\n",
      "  0.47826087  0.47826087  0.39130435  0.43478261  0.52173913  0.65217391\n",
      "  0.65217391  0.65217391  0.60869565  0.60869565  0.65217391  0.65217391\n",
      "  0.69565217  0.69565217  0.65217391]\n",
      "[array([ True,  True,  True,  True,  True,  True,  True,  True,  True,\n",
      "        True,  True,  True,  True,  True,  True,  True,  True,  True,\n",
      "        True,  True,  True], dtype=bool), array([ True,  True,  True,  True,  True,  True,  True,  True,  True,\n",
      "        True,  True,  True,  True,  True,  True,  True,  True,  True,\n",
      "        True,  True,  True], dtype=bool), array([ True,  True,  True,  True,  True,  True,  True,  True,  True,\n",
      "        True,  True,  True,  True,  True,  True,  True,  True,  True,\n",
      "        True,  True,  True], dtype=bool), array([ True,  True,  True,  True,  True,  True,  True,  True,  True,\n",
      "        True,  True,  True,  True,  True,  True,  True,  True,  True,\n",
      "        True,  True,  True], dtype=bool), array([ True,  True,  True,  True,  True,  True,  True,  True,  True,\n",
      "        True,  True,  True,  True,  True,  True,  True,  True,  True,\n",
      "        True,  True,  True], dtype=bool), array([ True,  True,  True,  True,  True,  True,  True,  True,  True,\n",
      "        True,  True,  True,  True,  True,  True,  True,  True,  True,\n",
      "        True,  True,  True], dtype=bool), array([ True,  True,  True,  True,  True,  True,  True,  True,  True,\n",
      "        True,  True,  True,  True,  True,  True,  True,  True,  True,\n",
      "        True,  True,  True], dtype=bool), array([ True,  True,  True,  True,  True,  True,  True,  True,  True,\n",
      "        True,  True,  True,  True,  True,  True,  True,  True,  True,\n",
      "        True,  True,  True], dtype=bool), array([ True,  True,  True,  True,  True,  True,  True,  True,  True,\n",
      "        True,  True,  True,  True,  True,  True,  True,  True,  True,\n",
      "        True,  True,  True], dtype=bool), array([ True,  True,  True,  True,  True,  True,  True,  True,  True,\n",
      "        True,  True,  True,  True,  True,  True,  True,  True,  True,\n",
      "        True,  True,  True], dtype=bool), array([ True,  True,  True,  True,  True,  True,  True,  True,  True,\n",
      "        True,  True,  True,  True,  True,  True,  True,  True,  True,\n",
      "        True,  True,  True], dtype=bool), array([ True,  True,  True,  True,  True,  True,  True,  True,  True,\n",
      "        True,  True,  True,  True,  True,  True,  True,  True,  True,\n",
      "        True,  True,  True], dtype=bool), array([ True,  True,  True,  True,  True,  True,  True,  True,  True,\n",
      "        True,  True,  True,  True,  True,  True,  True,  True,  True,\n",
      "        True,  True,  True], dtype=bool), array([ True,  True,  True,  True,  True,  True,  True,  True,  True,\n",
      "        True,  True,  True,  True,  True,  True,  True,  True,  True,\n",
      "        True,  True,  True], dtype=bool), array([ True,  True,  True,  True,  True,  True,  True,  True,  True,\n",
      "        True,  True,  True,  True,  True,  True,  True,  True,  True,\n",
      "        True,  True,  True], dtype=bool), array([ True,  True,  True,  True,  True,  True,  True,  True,  True,\n",
      "        True,  True,  True,  True,  True,  True,  True,  True,  True,\n",
      "        True,  True,  True], dtype=bool), array([ True,  True,  True,  True,  True,  True,  True,  True,  True,\n",
      "        True,  True,  True,  True,  True,  True,  True,  True,  True,\n",
      "        True,  True,  True], dtype=bool), array([ True,  True,  True,  True,  True,  True,  True,  True,  True,\n",
      "        True,  True,  True,  True,  True,  True,  True,  True,  True,\n",
      "        True,  True,  True], dtype=bool), array([ True,  True,  True,  True,  True,  True,  True,  True,  True,\n",
      "        True,  True,  True,  True,  True,  True,  True,  True,  True,\n",
      "        True,  True,  True], dtype=bool), array([ True,  True,  True,  True,  True,  True,  True,  True,  True,\n",
      "        True,  True,  True,  True,  True,  True,  True,  True,  True,\n",
      "        True,  True,  True], dtype=bool), array([ True,  True,  True,  True,  True,  True,  True,  True,  True,\n",
      "        True,  True,  True,  True,  True,  True,  True,  True,  True,\n",
      "        True,  True,  True], dtype=bool), array([ True,  True,  True,  True,  True,  True,  True,  True,  True,\n",
      "        True,  True,  True,  True,  True,  True,  True,  True,  True,\n",
      "        True,  True,  True], dtype=bool), array([ True,  True,  True,  True,  True,  True,  True,  True,  True,\n",
      "        True,  True,  True,  True,  True,  True,  True,  True,  True,\n",
      "        True,  True,  True], dtype=bool), array([ True,  True,  True,  True,  True,  True,  True,  True,  True,\n",
      "        True,  True,  True,  True,  True,  True,  True,  True,  True,\n",
      "        True,  True,  True], dtype=bool), array([ True,  True,  True,  True,  True,  True,  True,  True,  True,\n",
      "        True,  True,  True,  True,  True,  True,  True,  True,  True,\n",
      "        True,  True,  True], dtype=bool), array([ True,  True,  True,  True,  True,  True,  True,  True,  True,\n",
      "        True,  True,  True,  True,  True,  True,  True,  True,  True,\n",
      "        True,  True,  True], dtype=bool), array([ True,  True,  True,  True,  True,  True,  True,  True,  True,\n",
      "        True,  True,  True,  True,  True,  True,  True,  True,  True,\n",
      "        True,  True,  True], dtype=bool), array([ True,  True,  True,  True,  True,  True,  True,  True,  True,\n",
      "        True,  True,  True,  True,  True,  True,  True,  True,  True,\n",
      "        True,  True,  True], dtype=bool), array([ True,  True,  True,  True,  True,  True,  True,  True,  True,\n",
      "        True,  True,  True,  True,  True,  True,  True,  True,  True,\n",
      "        True,  True,  True], dtype=bool), array([ True,  True,  True,  True,  True,  True,  True,  True,  True,\n",
      "        True,  True,  True,  True,  True,  True,  True,  True,  True,\n",
      "        True,  True,  True], dtype=bool), array([ True,  True,  True,  True,  True,  True,  True,  True,  True,\n",
      "        True,  True,  True,  True,  True,  True,  True,  True,  True,\n",
      "        True,  True,  True], dtype=bool), array([ True,  True,  True,  True,  True,  True,  True,  True,  True,\n",
      "        True,  True,  True,  True,  True,  True,  True,  True,  True,\n",
      "        True,  True,  True], dtype=bool), array([ True,  True,  True,  True,  True,  True,  True,  True,  True,\n",
      "        True,  True,  True,  True,  True,  True,  True,  True,  True,\n",
      "        True,  True,  True], dtype=bool), array([ True,  True,  True,  True,  True,  True,  True,  True,  True,\n",
      "        True,  True,  True,  True,  True,  True,  True,  True,  True,\n",
      "        True,  True,  True], dtype=bool), array([ True,  True,  True,  True,  True,  True,  True,  True,  True,\n",
      "        True,  True,  True,  True,  True,  True,  True,  True,  True,\n",
      "        True,  True,  True], dtype=bool), array([ True,  True,  True,  True,  True,  True,  True,  True,  True,\n",
      "        True,  True,  True,  True,  True,  True,  True,  True,  True,\n",
      "        True,  True,  True], dtype=bool), array([ True,  True,  True,  True,  True,  True,  True,  True,  True,\n",
      "        True,  True,  True,  True,  True,  True,  True,  True,  True,\n",
      "        True,  True,  True], dtype=bool), array([ True,  True,  True,  True,  True,  True,  True,  True,  True,\n",
      "        True,  True,  True,  True,  True,  True,  True,  True,  True,\n",
      "        True,  True,  True], dtype=bool), array([ True,  True,  True,  True,  True,  True,  True,  True,  True,\n",
      "        True,  True,  True,  True,  True,  True,  True,  True,  True,\n",
      "        True,  True,  True], dtype=bool), array([ True,  True,  True,  True,  True,  True,  True,  True,  True,\n",
      "        True,  True,  True,  True,  True,  True,  True,  True,  True,\n",
      "        True,  True,  True], dtype=bool), array([ True,  True,  True,  True,  True,  True,  True,  True,  True,\n",
      "        True,  True,  True,  True,  True,  True,  True,  True,  True,\n",
      "        True,  True,  True], dtype=bool), array([ True,  True,  True,  True,  True,  True,  True,  True,  True,\n",
      "        True,  True,  True,  True,  True,  True,  True,  True,  True,\n",
      "        True,  True,  True], dtype=bool), array([ True,  True,  True,  True,  True,  True,  True,  True,  True,\n",
      "        True,  True,  True,  True,  True,  True,  True,  True,  True,\n",
      "        True,  True,  True], dtype=bool), array([ True,  True,  True,  True,  True,  True,  True,  True,  True,\n",
      "        True,  True,  True,  True,  True,  True,  True,  True,  True,\n",
      "        True,  True,  True], dtype=bool), array([ True,  True,  True,  True,  True,  True,  True,  True,  True,\n",
      "        True,  True,  True,  True,  True,  True,  True,  True,  True,\n",
      "        True,  True,  True], dtype=bool), array([ True,  True,  True,  True,  True,  True,  True,  True,  True,\n",
      "        True,  True,  True,  True,  True,  True,  True,  True,  True,\n",
      "        True,  True,  True], dtype=bool), array([ True,  True,  True,  True,  True,  True,  True,  True,  True,\n",
      "        True,  True,  True,  True,  True,  True,  True,  True,  True,\n",
      "        True,  True,  True], dtype=bool), array([ True,  True,  True,  True,  True,  True,  True,  True,  True,\n",
      "        True,  True,  True,  True,  True,  True,  True,  True,  True,\n",
      "        True,  True,  True], dtype=bool), array([ True,  True,  True,  True,  True,  True,  True,  True,  True,\n",
      "        True,  True,  True,  True,  True,  True,  True,  True,  True,\n",
      "        True,  True,  True], dtype=bool), array([ True,  True,  True,  True,  True,  True,  True,  True,  True,\n",
      "        True,  True,  True,  True,  True,  True,  True,  True,  True,\n",
      "        True,  True,  True], dtype=bool), array([ True,  True,  True,  True,  True,  True,  True,  True,  True,\n",
      "        True,  True,  True,  True,  True,  True,  True,  True,  True,\n",
      "        True,  True,  True], dtype=bool), array([ True,  True,  True,  True,  True,  True,  True,  True,  True,\n",
      "        True,  True,  True,  True,  True,  True,  True,  True,  True,\n",
      "        True,  True,  True], dtype=bool), array([ True,  True,  True,  True,  True,  True,  True,  True,  True,\n",
      "        True,  True,  True,  True,  True,  True,  True,  True,  True,\n",
      "        True,  True,  True], dtype=bool), array([ True,  True,  True,  True,  True,  True,  True,  True,  True,\n",
      "        True,  True,  True,  True,  True,  True,  True,  True,  True,\n",
      "        True,  True,  True], dtype=bool), array([ True,  True,  True,  True,  True,  True,  True,  True,  True,\n",
      "        True,  True,  True,  True,  True,  True,  True,  True,  True,\n",
      "        True,  True,  True], dtype=bool), array([ True,  True,  True,  True,  True,  True,  True,  True,  True,\n",
      "        True,  True,  True,  True,  True,  True,  True,  True,  True,\n",
      "        True,  True,  True], dtype=bool), array([ True,  True,  True,  True,  True,  True,  True,  True,  True,\n",
      "        True,  True,  True,  True,  True,  True,  True,  True,  True,\n",
      "        True,  True,  True], dtype=bool), array([ True,  True,  True,  True,  True,  True,  True,  True,  True,\n",
      "        True,  True,  True,  True,  True,  True,  True,  True,  True,\n",
      "        True,  True,  True], dtype=bool), array([ True,  True,  True,  True,  True,  True,  True,  True,  True,\n",
      "        True,  True,  True,  True,  True,  True,  True,  True,  True,\n",
      "        True,  True,  True], dtype=bool), array([ True,  True,  True,  True,  True,  True,  True,  True,  True,\n",
      "        True,  True,  True,  True,  True,  True,  True,  True,  True,\n",
      "        True,  True,  True], dtype=bool), array([ True,  True,  True,  True,  True,  True,  True,  True,  True,\n",
      "        True,  True,  True,  True,  True,  True,  True,  True,  True,\n",
      "        True,  True,  True], dtype=bool), array([ True,  True,  True,  True,  True,  True,  True,  True,  True,\n",
      "        True,  True,  True,  True,  True,  True,  True,  True,  True,\n",
      "        True,  True,  True], dtype=bool), array([ True,  True,  True,  True,  True,  True,  True,  True,  True,\n",
      "        True,  True,  True,  True,  True,  True,  True,  True,  True,\n",
      "        True,  True,  True], dtype=bool), array([ True,  True,  True,  True,  True,  True,  True,  True,  True,\n",
      "        True,  True,  True,  True,  True,  True,  True,  True,  True,\n",
      "        True,  True,  True], dtype=bool), array([ True,  True,  True,  True,  True,  True,  True,  True,  True,\n",
      "        True,  True,  True,  True,  True,  True,  True,  True,  True,\n",
      "        True,  True,  True], dtype=bool), array([ True,  True,  True,  True,  True,  True,  True,  True,  True,\n",
      "        True,  True,  True,  True,  True,  True,  True,  True,  True,\n",
      "        True,  True,  True], dtype=bool), array([ True,  True,  True,  True,  True,  True,  True,  True,  True,\n",
      "        True,  True,  True,  True,  True,  True,  True,  True,  True,\n",
      "        True,  True,  True], dtype=bool), array([ True,  True,  True,  True,  True,  True,  True,  True,  True,\n",
      "        True,  True,  True,  True,  True,  True,  True,  True,  True,\n",
      "        True,  True,  True], dtype=bool), array([ True,  True,  True,  True,  True,  True,  True,  True,  True,\n",
      "        True,  True,  True,  True,  True,  True,  True,  True,  True,\n",
      "        True,  True,  True], dtype=bool), array([ True,  True,  True,  True,  True,  True,  True,  True,  True,\n",
      "        True,  True,  True,  True,  True,  True,  True,  True,  True,\n",
      "        True,  True,  True], dtype=bool), array([ True,  True,  True,  True,  True,  True,  True,  True,  True,\n",
      "        True,  True,  True,  True,  True,  True,  True,  True,  True,\n",
      "        True,  True,  True], dtype=bool), array([ True,  True,  True,  True,  True,  True,  True,  True,  True,\n",
      "        True,  True,  True,  True,  True,  True,  True,  True,  True,\n",
      "        True,  True,  True], dtype=bool), array([ True,  True,  True,  True,  True,  True,  True,  True,  True,\n",
      "        True,  True,  True,  True,  True,  True,  True,  True,  True,\n",
      "        True,  True,  True], dtype=bool), array([ True,  True,  True,  True,  True,  True,  True,  True,  True,\n",
      "        True,  True,  True,  True,  True,  True,  True,  True,  True,\n",
      "        True,  True,  True], dtype=bool), array([ True,  True,  True,  True,  True,  True,  True,  True,  True,\n",
      "        True,  True,  True,  True,  True,  True,  True,  True,  True,\n",
      "        True,  True,  True], dtype=bool), array([ True,  True,  True,  True,  True,  True,  True,  True,  True,\n",
      "        True,  True,  True,  True,  True,  True,  True,  True,  True,\n",
      "        True,  True,  True], dtype=bool), array([ True,  True,  True,  True,  True,  True,  True,  True,  True,\n",
      "        True,  True,  True,  True,  True,  True,  True,  True,  True,\n",
      "        True,  True,  True], dtype=bool), array([ True,  True,  True,  True,  True,  True,  True,  True,  True,\n",
      "        True,  True,  True,  True,  True,  True,  True,  True,  True,\n",
      "        True,  True,  True], dtype=bool), array([ True,  True,  True,  True,  True,  True,  True,  True,  True,\n",
      "        True,  True,  True,  True,  True,  True,  True,  True,  True,\n",
      "        True,  True,  True], dtype=bool), array([ True,  True,  True,  True,  True,  True,  True,  True,  True,\n",
      "        True,  True,  True,  True,  True,  True,  True,  True,  True,\n",
      "        True,  True,  True], dtype=bool), array([ True,  True,  True,  True,  True,  True,  True,  True,  True,\n",
      "        True,  True,  True,  True,  True,  True,  True,  True,  True,\n",
      "        True,  True,  True], dtype=bool), array([ True,  True,  True,  True,  True,  True,  True,  True,  True,\n",
      "        True,  True,  True,  True,  True,  True,  True,  True,  True,\n",
      "        True,  True,  True], dtype=bool), array([ True,  True,  True,  True,  True,  True,  True,  True,  True,\n",
      "        True,  True,  True,  True,  True,  True,  True,  True,  True,\n",
      "        True,  True,  True], dtype=bool), array([ True,  True,  True,  True,  True,  True,  True,  True,  True,\n",
      "        True,  True,  True,  True,  True,  True,  True,  True,  True,\n",
      "        True,  True,  True], dtype=bool), array([ True,  True,  True,  True,  True,  True,  True,  True,  True,\n",
      "        True,  True,  True,  True,  True,  True,  True,  True,  True,\n",
      "        True,  True,  True], dtype=bool), array([ True,  True,  True,  True,  True,  True,  True,  True,  True,\n",
      "        True,  True,  True,  True,  True,  True,  True,  True,  True,\n",
      "        True,  True,  True], dtype=bool), array([ True,  True,  True,  True,  True,  True,  True,  True,  True,\n",
      "        True,  True,  True,  True,  True,  True,  True,  True,  True,\n",
      "        True,  True,  True], dtype=bool), array([ True,  True,  True,  True,  True,  True,  True,  True,  True,\n",
      "        True,  True,  True,  True,  True,  True,  True,  True,  True,\n",
      "        True,  True,  True], dtype=bool), array([ True,  True,  True,  True,  True,  True,  True,  True,  True,\n",
      "        True,  True,  True,  True,  True,  True,  True,  True,  True,\n",
      "        True,  True,  True], dtype=bool), array([ True,  True,  True,  True,  True,  True,  True,  True,  True,\n",
      "        True,  True,  True,  True,  True,  True,  True,  True,  True,\n",
      "        True,  True,  True], dtype=bool), array([ True,  True,  True,  True,  True,  True,  True,  True,  True,\n",
      "        True,  True,  True,  True,  True,  True,  True,  True,  True,\n",
      "        True,  True,  True], dtype=bool), array([ True,  True,  True,  True,  True,  True,  True,  True,  True,\n",
      "        True,  True,  True,  True,  True,  True,  True,  True,  True,\n",
      "        True,  True,  True], dtype=bool), array([ True,  True,  True,  True,  True,  True,  True,  True,  True,\n",
      "        True,  True,  True,  True,  True,  True,  True,  True,  True,\n",
      "        True,  True,  True], dtype=bool), array([ True,  True,  True,  True,  True,  True,  True,  True,  True,\n",
      "        True,  True,  True,  True,  True,  True,  True,  True,  True,\n",
      "        True,  True,  True], dtype=bool), array([ True,  True,  True,  True,  True,  True,  True,  True,  True,\n",
      "        True,  True,  True,  True,  True,  True,  True,  True,  True,\n",
      "        True,  True,  True], dtype=bool), array([ True,  True,  True,  True,  True,  True,  True,  True,  True,\n",
      "        True,  True,  True,  True,  True,  True,  True,  True,  True,\n",
      "        True,  True,  True], dtype=bool), array([ True,  True,  True,  True,  True,  True,  True,  True,  True,\n",
      "        True,  True,  True,  True,  True,  True,  True,  True,  True,\n",
      "        True,  True,  True], dtype=bool), array([ True,  True,  True,  True,  True,  True,  True,  True,  True,\n",
      "        True,  True,  True,  True,  True,  True,  True,  True,  True,\n",
      "        True,  True,  True], dtype=bool), array([ True,  True,  True,  True,  True,  True,  True,  True,  True,\n",
      "        True,  True,  True,  True,  True,  True,  True,  True,  True,\n",
      "        True,  True,  True], dtype=bool), array([ True,  True,  True,  True,  True,  True,  True,  True,  True,\n",
      "        True,  True,  True,  True,  True,  True,  True,  True,  True,\n",
      "        True,  True,  True], dtype=bool), array([ True,  True,  True,  True,  True,  True,  True,  True,  True,\n",
      "        True,  True,  True,  True,  True,  True,  True,  True,  True,\n",
      "        True,  True,  True], dtype=bool), array([ True,  True,  True,  True,  True,  True,  True,  True,  True,\n",
      "        True,  True,  True,  True,  True,  True,  True,  True,  True,\n",
      "        True,  True,  True], dtype=bool), array([ True,  True,  True,  True,  True,  True,  True,  True,  True,\n",
      "        True,  True,  True,  True,  True,  True,  True,  True,  True,\n",
      "        True,  True,  True], dtype=bool), array([ True,  True,  True,  True,  True,  True,  True,  True,  True,\n",
      "        True,  True,  True,  True,  True,  True,  True,  True,  True,\n",
      "        True,  True,  True], dtype=bool)]\n"
     ]
    }
   ],
   "source": [
    "print out_.keys()[0]\n",
    "print maxes[1]\n",
    "print maxes2[1]\n",
    "print n2[15:18, 1]\n",
    "print n2[16-DIST:16+DIST+1, 1]\n",
    "print out_2[1]\n",
    "print out_3[1]\n",
    "\n",
    "ttt = []\n",
    "for k in out_3:\n",
    "    t = maxes[k]\n",
    "    ttt.append(out_3[k] == n2[t-DIST:t+DIST+1, k])\n",
    "print ttt"
   ]
  },
  {
   "cell_type": "code",
   "execution_count": null,
   "metadata": {
    "collapsed": true
   },
   "outputs": [],
   "source": []
  }
 ],
 "metadata": {
  "kernelspec": {
   "display_name": "Python 2",
   "language": "python",
   "name": "python2"
  },
  "language_info": {
   "codemirror_mode": {
    "name": "ipython",
    "version": 2
   },
   "file_extension": ".py",
   "mimetype": "text/x-python",
   "name": "python",
   "nbconvert_exporter": "python",
   "pygments_lexer": "ipython2",
   "version": "2.7.10"
  }
 },
 "nbformat": 4,
 "nbformat_minor": 0
}
