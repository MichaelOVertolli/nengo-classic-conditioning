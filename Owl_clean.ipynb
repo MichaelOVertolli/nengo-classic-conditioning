{
 "cells": [
  {
   "cell_type": "code",
   "execution_count": 2,
   "metadata": {
    "collapsed": true
   },
   "outputs": [],
   "source": [
    "from matplotlib import pylab\n",
    "import nengo\n",
    "import numpy as np\n",
    "\n",
    "%matplotlib inline"
   ]
  },
  {
   "cell_type": "code",
   "execution_count": 82,
   "metadata": {
    "collapsed": false
   },
   "outputs": [],
   "source": [
    "model = nengo.Network(seed=3)\n",
    "SIM_TIME = 50\n",
    "SWITCH_TIME = 500\n",
    "SWITCH_TIME2 = 50\n",
    "SIM_TIME2 = SWITCH_TIME2*0.001\n",
    "dist = nengo.dists.Uniform(-1.0, 1.0)\n",
    "vals = dist.sample((1000*SIM_TIME/SWITCH_TIME)+1)\n",
    "vals2 = np.linspace(-1, 1, 45)\n",
    "j = []\n",
    "def fn(vals):\n",
    "    s = SWITCH_TIME\n",
    "    vs = vals\n",
    "    t = 0\n",
    "    cur = 0\n",
    "    i = 0\n",
    "    while True:\n",
    "    #initial training\n",
    "        j.append(vs[i])\n",
    "        t = yield [vs[i], 0, 1]\n",
    "        if t > SIM_TIME:\n",
    "            break\n",
    "        if t-cur > 0.001*s:\n",
    "            cur = t\n",
    "            i += 1\n",
    "    s = SWITCH_TIME2\n",
    "    vs = vals2\n",
    "    i = 0\n",
    "    cur = t\n",
    "    while True:\n",
    "    #assessment 1\n",
    "        j.append(vs[i])\n",
    "        t = yield [vs[i], 0, 0]\n",
    "        if i >= len(vals2):\n",
    "            print 'too far'\n",
    "            break\n",
    "        if t-cur > 0.001*s:\n",
    "            cur = t\n",
    "            i += 1\n",
    "    while True:\n",
    "        t = yield [0, 0, 0]"
   ]
  },
  {
   "cell_type": "code",
   "execution_count": 103,
   "metadata": {
    "collapsed": true
   },
   "outputs": [],
   "source": [
    "func = fn(vals)\n",
    "func.next()\n",
    "func = func.send"
   ]
  },
  {
   "cell_type": "code",
   "execution_count": 104,
   "metadata": {
    "collapsed": false
   },
   "outputs": [],
   "source": [
    "with model:\n",
    "    stim = nengo.Node(func)\n",
    "    \n",
    "    sensory = nengo.Ensemble(n_neurons=200, dimensions=3,\n",
    "                            intercepts=nengo.dists.Uniform(0.87,0.91))\n",
    "    \n",
    "    \n",
    "    spatial = nengo.Ensemble(n_neurons=200, dimensions=2,\n",
    "                            intercepts=nengo.dists.Uniform(0.87,0.91))\n",
    "    \n",
    "    nengo.Connection(stim, sensory[:],\n",
    "                     function=lambda x: (np.sin(x[0]*np.pi/2), \n",
    "                                         np.cos(x[0]*np.pi/2), \n",
    "                                         x[1]))\n",
    "    \n",
    "    #nengo.Connection(sensory[:2], sensory[2:], synapse=0.2)\n",
    "    \n",
    "    c = nengo.Connection(sensory, spatial, function=lambda x: [0,0],\n",
    "                         learning_rule_type=nengo.PES(learning_rate=3e-4))\n",
    "        \n",
    "    error = nengo.Ensemble(n_neurons=100, dimensions=3)\n",
    "    \n",
    "    nengo.Connection(stim[2], error[2])\n",
    "    nengo.Connection(sensory[:2], error[:2],\n",
    "                     transform=-1)\n",
    "    nengo.Connection(error, c.learning_rule, \n",
    "                     function=lambda x: x[:2] if x[2] > 0.5 else [0, 0])\n",
    "    #nengo.Connection(spatial, c.learning_rule, synapse=0.1)\n",
    "    \n",
    "    nengo.Connection(spatial, error[:2])\n",
    "    #correct = nengo.Node([0,0])\n",
    "    #nengo.Connection(correct, error, transform=-1)\n",
    "    \n",
    "    error_probe = nengo.Probe(error)\n",
    "    spatial_probe = nengo.Probe(spatial.neurons)\n",
    "    spatial_probe_v = nengo.Probe(spatial)\n",
    "    \n"
   ]
  },
  {
   "cell_type": "code",
   "execution_count": 105,
   "metadata": {
    "collapsed": false
   },
   "outputs": [
    {
     "name": "stdout",
     "output_type": "stream",
     "text": [
      "Simulation finished in 0:00:58.                                                 \n"
     ]
    }
   ],
   "source": [
    "sim = nengo.Simulator(model)\n",
    "sim.run(SIM_TIME)"
   ]
  },
  {
   "cell_type": "code",
   "execution_count": 106,
   "metadata": {
    "collapsed": false
   },
   "outputs": [],
   "source": [
    "def sim_gen(time, cnt):\n",
    "    cur = 0\n",
    "    while cur < cnt:\n",
    "        yield np.mean(sim.data[spatial_probe][-SWITCH_TIME2:], axis=0)\n",
    "        print sim.data[spatial_probe].shape\n",
    "        sim.run(time)\n",
    "        cur += 1\n",
    "        \n",
    "def calc_norm(rates):\n",
    "    #assume that cells with similar peak centers would fall under the same\n",
    "    #multicellular recording therefore peaks are done relative to all values with similar peaks\n",
    "    nrm_rates = []\n",
    "    rate_peaks = np.max(rates, axis=1)\n",
    "    max_i = np.argmax(rates, axis=0)\n",
    "    for j, i in enumerate(max_i):\n",
    "        nrm_rates.append(rates[:, j]/rate_peaks[i])\n",
    "    nrm_rates = np.array(nrm_rates).transpose()\n",
    "    return nrm_rates\n",
    "\n",
    "def align_cut(nrm, dist, num_checks):\n",
    "    #below uses the protocol from the paper where the center value of the values with >= 50% of\n",
    "    #the max value is used as the max\n",
    "    #cut assumes that it is not multimodal\n",
    "    cut = [[(i, neuron_val) for i, neuron_val in enumerate(nrm[:, col]) \n",
    "            if neuron_val >= 0.5] for col in range(nrm.shape[1])]\n",
    "    maxes = [(i, neuron_vals[len(neuron_vals)/2][0]) \n",
    "             for i, neuron_vals in enumerate(cut) \n",
    "             if len(neuron_vals) > 0]\n",
    "    max_cuts = [nrm[mx-dist:mx+dist+1, i] \n",
    "                for i, mx in maxes \n",
    "                if mx >= dist and mx <= num_checks-(dist+1)]\n",
    "    return np.array(max_cuts)\n",
    "\n",
    "def prep_graph(time, cnt, dist):\n",
    "    sim_g = sim_gen(time, cnt)\n",
    "    sim_g.next()\n",
    "    return align_cut(calc_norm(np.array([mean for mean in sim_g])), dist)\n",
    "\n",
    "def graph_neurons(vals, step):\n",
    "    for v in range(vals.shape[0]):\n",
    "        pylab.plot(range(-DIST*step, (DIST+1)*step, step), vals[v, :])\n",
    "\n",
    "def graph_mean(mean, step):\n",
    "    pylab.plot(range(-DIST*step, (DIST+1)*step, step), mean)"
   ]
  },
  {
   "cell_type": "code",
   "execution_count": 107,
   "metadata": {
    "collapsed": false,
    "scrolled": true
   },
   "outputs": [
    {
     "name": "stdout",
     "output_type": "stream",
     "text": [
      "(200,)\n",
      "(50000, 200)\n",
      "Simulation finished in 0:00:01.                                                 \n",
      "(50050, 200)\n",
      "Simulation finished in 0:00:01.                                                 \n",
      "(50100, 200)\n",
      "Simulation finished in 0:00:01.                                                 \n",
      "(50150, 200)\n",
      "Simulation finished in 0:00:01.                                                 \n",
      "(50200, 200)\n",
      "Simulation finished in 0:00:01.                                                 \n",
      "(50250, 200)\n",
      "Simulation finished in 0:00:01.                                                 \n",
      "(50300, 200)\n",
      "Simulation finished in 0:00:01.                                                 \n",
      "(50350, 200)\n",
      "Simulation finished in 0:00:01.                                                 \n",
      "(50400, 200)\n",
      "Simulation finished in 0:00:01.                                                 \n",
      "(50450, 200)\n",
      "Simulation finished in 0:00:01.                                                 \n",
      "(50500, 200)\n",
      "Simulation finished in 0:00:01.                                                 \n",
      "(50550, 200)\n",
      "Simulation finished in 0:00:01.                                                 \n",
      "(50600, 200)\n",
      "Simulation finished in 0:00:01.                                                 \n",
      "(50650, 200)\n",
      "Simulation finished in 0:00:01.                                                 \n",
      "(50700, 200)\n",
      "Simulation finished in 0:00:01.                                                 \n",
      "(50750, 200)\n",
      "Simulation finished in 0:00:01.                                                 \n",
      "(50800, 200)\n",
      "Simulation finished in 0:00:01.                                                 \n",
      "(50850, 200)\n",
      "Simulation finished in 0:00:01.                                                 \n",
      "(50900, 200)\n",
      "Simulation finished in 0:00:01.                                                 \n",
      "(50950, 200)\n",
      "Simulation finished in 0:00:01.                                                 \n",
      "(51000, 200)\n",
      "Simulation finished in 0:00:01.                                                 \n",
      "(51050, 200)\n",
      "Simulation finished in 0:00:01.                                                 \n",
      "(51100, 200)\n",
      "Simulation finished in 0:00:01.                                                 \n",
      "(51150, 200)\n",
      "Simulation finished in 0:00:01.                                                 \n",
      "(51200, 200)\n",
      "Simulation finished in 0:00:01.                                                 \n",
      "(51250, 200)\n",
      "Simulation finished in 0:00:01.                                                 \n",
      "(51300, 200)\n",
      "Simulation finished in 0:00:01.                                                 \n",
      "(51350, 200)\n",
      "Simulation finished in 0:00:01.                                                 \n",
      "(51400, 200)\n",
      "Simulation finished in 0:00:01.                                                 \n",
      "(51450, 200)\n",
      "Simulation finished in 0:00:01.                                                 \n",
      "(51500, 200)\n",
      "Simulation finished in 0:00:01.                                                 \n",
      "(51550, 200)\n",
      "Simulation finished in 0:00:01.                                                 \n",
      "(51600, 200)\n",
      "Simulation finished in 0:00:01.                                                 \n",
      "(51650, 200)\n",
      "Simulation finished in 0:00:01.                                                 \n",
      "(51700, 200)\n",
      "Simulation finished in 0:00:01.                                                 \n",
      "(51750, 200)\n",
      "Simulation finished in 0:00:01.                                                 \n",
      "(51800, 200)\n",
      "Simulation finished in 0:00:01.                                                 \n",
      "(51850, 200)\n",
      "Simulation finished in 0:00:01.                                                 \n",
      "(51900, 200)\n",
      "Simulation finished in 0:00:01.                                                 \n",
      "(51950, 200)\n",
      "Simulation finished in 0:00:01.                                                 \n",
      "(52000, 200)\n",
      "Simulation finished in 0:00:01.                                                 \n",
      "(52050, 200)\n",
      "Simulation finished in 0:00:01.                                                 \n",
      "(52100, 200)\n",
      "Simulation finished in 0:00:01.                                                 \n",
      "(52150, 200)\n",
      "Simulation finished in 0:00:01.                                                 \n",
      "(52200, 200)\n",
      "Simulation finished in 0:00:01.                                                 \n"
     ]
    }
   ],
   "source": [
    "sim_g = sim_gen(SIM_TIME2, len(vals2))\n",
    "a=sim_g.next()\n",
    "print a.shape\n",
    "mean = np.array([mean for mean in sim_g])"
   ]
  },
  {
   "cell_type": "code",
   "execution_count": 88,
   "metadata": {
    "collapsed": true
   },
   "outputs": [],
   "source": [
    "n = calc_norm(mean)"
   ]
  },
  {
   "cell_type": "code",
   "execution_count": 89,
   "metadata": {
    "collapsed": false
   },
   "outputs": [],
   "source": [
    "DIST = 10\n",
    "out = align_cut(n, DIST, len(vals2))"
   ]
  },
  {
   "cell_type": "code",
   "execution_count": 90,
   "metadata": {
    "collapsed": false,
    "scrolled": false
   },
   "outputs": [
    {
     "name": "stdout",
     "output_type": "stream",
     "text": [
      "(44, 200)\n",
      "(44, 200)\n",
      "(50,)\n",
      "[21, 21, 21, 21, 21, 21, 21, 21, 21, 21, 21, 21, 21, 21, 21, 21, 21, 21, 21, 21, 21, 21, 21, 20, 21, 21, 21, 21, 21, 20, 21, 21, 21, 21, 21, 21, 21, 21, 21, 21, 21, 21, 21, 21, 21, 21, 21, 21, 21, 21]\n",
      "[  5.7   2.9  23.9  39.1  29.9  21.2  11.4  12.9  18.1  19.1  16.3  10.7\n",
      "  24.5  28.    6.7   3.9  15.3  26.7  39.2  26.3  17.    5.    8.   22.3\n",
      "  19.5  18.5  41.9  56.6  53.1  44.8  29.9  26.7  26.2  27.9  48.3  42.7\n",
      "  18.8  16.2  21.3  25.   29.9  29.2  18.5  19.2]\n"
     ]
    }
   ],
   "source": [
    "print mean.shape\n",
    "print n.shape\n",
    "print out.shape\n",
    "print [len(x) for x in out]\n",
    "print np.mean(mean[:, :], axis=1)"
   ]
  },
  {
   "cell_type": "code",
   "execution_count": 17,
   "metadata": {
    "collapsed": false,
    "scrolled": false
   },
   "outputs": [
    {
     "name": "stdout",
     "output_type": "stream",
     "text": [
      "Simulation finished in 0:00:01.                                                 \n",
      "Simulation finished in 0:00:01.                                                 \n",
      "Simulation finished in 0:00:01.                                                 \n",
      "Simulation finished in 0:00:01.                                                 \n",
      "Simulation finished in 0:00:01.                                                 \n",
      "Simulation finished in 0:00:01.                                                 \n",
      "Simulation finished in 0:00:01.                                                 \n",
      "Simulation finished in 0:00:01.                                                 \n",
      "Simulation finished in 0:00:01.                                                 \n",
      "Simulation finished in 0:00:01.                                                 \n",
      "Simulation finished in 0:00:01.                                                 \n",
      "Simulation finished in 0:00:01.                                                 \n",
      "Simulation finished in 0:00:01.                                                 \n",
      "Simulation finished in 0:00:01.                                                 \n",
      "Simulation finished in 0:00:01.                                                 \n",
      "Simulation finished in 0:00:01.                                                 \n",
      "Simulation finished in 0:00:01.                                                 \n",
      "Simulation finished in 0:00:01.                                                 \n",
      "Simulation finished in 0:00:01.                                                 \n",
      "Simulation finished in 0:00:01.                                                 \n",
      "Simulation finished in 0:00:01.                                                 \n",
      "Simulation finished in 0:00:01.                                                 \n",
      "Simulation finished in 0:00:01.                                                 \n",
      "Simulation finished in 0:00:01.                                                 \n",
      "Simulation finished in 0:00:01.                                                 \n",
      "Simulation finished in 0:00:01.                                                 \n",
      "Simulation finished in 0:00:01.                                                 \n",
      "Simulation finished in 0:00:01.                                                 \n",
      "Simulation finished in 0:00:01.                                                 \n",
      "Simulation finished in 0:00:01.                                                 \n",
      "Simulation finished in 0:00:01.                                                 \n",
      "Simulation finished in 0:00:01.                                                 \n",
      "Simulation finished in 0:00:01.                                                 \n",
      "Simulation finished in 0:00:01.                                                 \n",
      "Simulation finished in 0:00:01.                                                 \n",
      "Simulation finished in 0:00:01.                                                 \n",
      "Simulation finished in 0:00:01.                                                 \n",
      "Simulation finished in 0:00:01.                                                 \n",
      "Simulation finished in 0:00:01.                                                 \n",
      "Simulation finished in 0:00:01.                                                 \n",
      "Simulation finished in 0:00:01.                                                 \n",
      "Simulation finished in 0:00:01.                                                 \n",
      "Simulation finished in 0:00:01.                                                 \n",
      "Simulation finished in 0:00:01.                                                 \n"
     ]
    },
    {
     "ename": "IndexError",
     "evalue": "too many indices for array",
     "output_type": "error",
     "traceback": [
      "\u001b[1;31m---------------------------------------------------------------------------\u001b[0m",
      "\u001b[1;31mIndexError\u001b[0m                                Traceback (most recent call last)",
      "\u001b[1;32m<ipython-input-17-30e50bd0cad4>\u001b[0m in \u001b[0;36m<module>\u001b[1;34m()\u001b[0m\n\u001b[0;32m      2\u001b[0m \u001b[0mSTEP\u001b[0m \u001b[1;33m=\u001b[0m \u001b[1;36m10\u001b[0m\u001b[1;33m\u001b[0m\u001b[0m\n\u001b[0;32m      3\u001b[0m \u001b[0mvals\u001b[0m \u001b[1;33m=\u001b[0m \u001b[0mprep_graph\u001b[0m\u001b[1;33m(\u001b[0m\u001b[0mSIM_TIME2\u001b[0m\u001b[1;33m,\u001b[0m \u001b[0mlen\u001b[0m\u001b[1;33m(\u001b[0m\u001b[0mvals2\u001b[0m\u001b[1;33m)\u001b[0m\u001b[1;33m,\u001b[0m \u001b[0mDIST\u001b[0m\u001b[1;33m)\u001b[0m\u001b[1;33m\u001b[0m\u001b[0m\n\u001b[1;32m----> 4\u001b[1;33m \u001b[0mmean_vals\u001b[0m \u001b[1;33m=\u001b[0m \u001b[0mnp\u001b[0m\u001b[1;33m.\u001b[0m\u001b[0mmean\u001b[0m\u001b[1;33m(\u001b[0m\u001b[0mvals\u001b[0m\u001b[1;33m[\u001b[0m\u001b[1;33m:\u001b[0m\u001b[1;33m,\u001b[0m \u001b[1;33m:\u001b[0m\u001b[1;33m]\u001b[0m\u001b[1;33m,\u001b[0m \u001b[0maxis\u001b[0m\u001b[1;33m=\u001b[0m\u001b[1;36m0\u001b[0m\u001b[1;33m)\u001b[0m\u001b[1;33m\u001b[0m\u001b[0m\n\u001b[0m",
      "\u001b[1;31mIndexError\u001b[0m: too many indices for array"
     ]
    }
   ],
   "source": [
    "\n",
    "#vals = prep_graph(SIM_TIME2, len(vals2), DIST)\n",
    "mean_vals = np.mean(vals[:, :], axis=0)"
   ]
  },
  {
   "cell_type": "code",
   "execution_count": 101,
   "metadata": {
    "collapsed": false
   },
   "outputs": [
    {
     "name": "stdout",
     "output_type": "stream",
     "text": [
      "[-0.92836754748143546, -0.92836754748143546, -0.92836754748143546, -0.92836754748143546, -0.92836754748143546, -0.92836754748143546, -0.92836754748143546, -0.92836754748143546, -0.92836754748143546, -0.92836754748143546, -0.92836754748143546, -0.92836754748143546, -0.92836754748143546, -0.92836754748143546, -0.92836754748143546, -0.92836754748143546, -0.92836754748143546, -0.92836754748143546, -0.92836754748143546, -0.92836754748143546, -0.92836754748143546, -0.92836754748143546, -0.92836754748143546, -0.92836754748143546, -0.92836754748143546, -0.92836754748143546, -0.92836754748143546, -0.92836754748143546, -0.92836754748143546, -0.92836754748143546, -0.92836754748143546, -0.92836754748143546, -0.92836754748143546, -0.92836754748143546, -0.92836754748143546, -0.92836754748143546, -0.92836754748143546, -0.92836754748143546, -0.92836754748143546, -0.92836754748143546, -0.92836754748143546, -0.92836754748143546, -0.92836754748143546, -0.92836754748143546, -0.92836754748143546, -0.92836754748143546, -0.92836754748143546, -0.92836754748143546, -0.92836754748143546, -0.92836754748143546, -1.0, -1.0, -1.0, -1.0, -1.0, -1.0, -1.0, -1.0, -1.0, -1.0, -1.0, -1.0, -1.0, -1.0, -1.0, -1.0, -1.0, -1.0, -1.0, -1.0, -1.0, -1.0, -1.0, -1.0, -1.0, -1.0, -1.0, -1.0, -1.0, -1.0, -1.0, -1.0, -1.0, -1.0, -1.0, -1.0, -1.0, -1.0, -1.0, -1.0, -1.0, -1.0, -1.0, -1.0, -1.0, -1.0, -1.0, -1.0, -1.0, -1.0]\n"
     ]
    }
   ],
   "source": [
    "print j[-(50*46):-(50*44)]"
   ]
  },
  {
   "cell_type": "code",
   "execution_count": 18,
   "metadata": {
    "collapsed": false
   },
   "outputs": [
    {
     "name": "stdout",
     "output_type": "stream",
     "text": [
      "(31,)\n"
     ]
    }
   ],
   "source": [
    "print vals.shape"
   ]
  },
  {
   "cell_type": "code",
   "execution_count": null,
   "metadata": {
    "collapsed": true
   },
   "outputs": [],
   "source": [
    "STEP = 10"
   ]
  },
  {
   "cell_type": "code",
   "execution_count": 15,
   "metadata": {
    "collapsed": false
   },
   "outputs": [
    {
     "name": "stdout",
     "output_type": "stream",
     "text": [
      "(50, 200)\n"
     ]
    }
   ],
   "source": [
    "graph_neurons(vals, STEP)"
   ]
  },
  {
   "cell_type": "code",
   "execution_count": null,
   "metadata": {
    "collapsed": true
   },
   "outputs": [],
   "source": [
    "graph_mean(mean_vals, STEP)"
   ]
  }
 ],
 "metadata": {
  "kernelspec": {
   "display_name": "Python 2",
   "language": "python",
   "name": "python2"
  },
  "language_info": {
   "codemirror_mode": {
    "name": "ipython",
    "version": 2
   },
   "file_extension": ".py",
   "mimetype": "text/x-python",
   "name": "python",
   "nbconvert_exporter": "python",
   "pygments_lexer": "ipython2",
   "version": "2.7.10"
  }
 },
 "nbformat": 4,
 "nbformat_minor": 0
}
